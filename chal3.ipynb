{
 "cells": [
  {
   "cell_type": "markdown",
   "metadata": {},
   "source": [
    "## Data Project Proposal\n",
    "___\n",
    "\n",
    "Over the last few decades, pharmaceutical companies have perfected sophisticated biochemical synthesis techniques to generate an uncountable number of drug candidates. Now| it is in the initial steps of drug discovery where the greatest challenges are found. Before synthesis and testing of drug candidates, the relevant disease-causing molecular targets within the body must be identified. Recently, new tools are becoming available in the form of genomic analysis that have the potential to dramatically improve progress in this area. \n",
    "\n",
    "Briefly, genes are encoded in the body that inform internal mechanisms of the types of proteins that must be constructed for various biological processes to function. These proteins represent the molecular targets drug researchers are seeking. Environmental or hereditary factors can causes errors in gene encoding that lead to the development of non-communicable diseases. So by identifying the protein targets and applying an appropriate drug therapy it is possible to treat the disease.\n",
    "\n",
    "Because of these technological advancements in genomics, a multitude of publicly-available databases now exist that describe in detail the link between genes, molecular targets, and disease. Unfortunately this information is organized in non-standard formats and accessed through file downloads, web APIs, or form-based queries. It is not easy for drug researchers to utilize these resources. Furthermore, once a target is identified there is still critical research on the business-side that needs to be performed in order to ensure profitability of the fully-developed pharmaceutical.\n",
    "\n",
    "For these reasons I propose a project that will mate business and technical risk analysis and assist pharmaceutical companies in selecting drug development strategies that maximize the return on their R&D investment. In the first phase, I plan to compile all available gene-disease data into a central repository and develop an appropriate metric to identify the strongest gene-diseases links. In the second phase, I will search public health databases to find the rates of incidence for a long list of common and rare diseases and estimate market values. In the final phase, I will combine these two analyses to develop a list of gene targets and disease areas ranked by highest likelihood of achieving financial and technical success.\n",
    "___"
   ]
  },
  {
   "cell_type": "markdown",
   "metadata": {},
   "source": [
    "### Plot 1. Quality of gene-disease association data\n",
    "This example plot comes from a single database (DisGeNET). The weighted scores represent a metric (0,1) that describes the quality of the established link between the identified gene and associated diseases. Each gene may influence several diseases and each diseases may be influenced by several genes. In the database I intend to construct, the number of diseases linked to a particular gene will influence the gene's 'drug development score'.\n",
    "\n",
    "There are dozens of similar independently constructed databases that need to be scraped or downloaded."
   ]
  },
  {
   "cell_type": "code",
   "execution_count": 2,
   "metadata": {
    "collapsed": true
   },
   "outputs": [],
   "source": [
    "import pandas as pd\n",
    "import numpy as np\n",
    "import matplotlib.pyplot as plt\n",
    "\n",
    "%matplotlib inline"
   ]
  },
  {
   "cell_type": "code",
   "execution_count": null,
   "metadata": {
    "collapsed": true
   },
   "outputs": [],
   "source": [
    "file = 'all_gene_disease_associations.txt.gz'\n",
    "\n",
    "\n",
    "# Roll through gzip csv file using pandas reader\n",
    "readerc3 = pd.read_csv(file, sep='\\t', compression='gzip', iterator=True, chunksize=10000)\n",
    "\n",
    "# Concatenate to build dataframe\n",
    "dfc3 = pd.concat(readerc3, ignore_index=True)"
   ]
  },
  {
   "cell_type": "code",
   "execution_count": 4,
   "metadata": {
    "collapsed": false
   },
   "outputs": [
    {
     "data": {
      "text/html": [
       "<div>\n",
       "<table border=\"1\" class=\"dataframe\">\n",
       "  <thead>\n",
       "    <tr style=\"text-align: right;\">\n",
       "      <th></th>\n",
       "      <th>geneId</th>\n",
       "      <th>geneSymbol</th>\n",
       "      <th>geneName</th>\n",
       "      <th>diseaseId</th>\n",
       "      <th>diseaseName</th>\n",
       "      <th>score</th>\n",
       "      <th>NumberOfPubmeds</th>\n",
       "      <th>associationType</th>\n",
       "      <th>source</th>\n",
       "    </tr>\n",
       "  </thead>\n",
       "  <tbody>\n",
       "    <tr>\n",
       "      <th>0</th>\n",
       "      <td>540</td>\n",
       "      <td>ATP7B</td>\n",
       "      <td>ATPase, Cu++ transporting, beta polypeptide</td>\n",
       "      <td>umls:C0019202</td>\n",
       "      <td>Hepatolenticular Degeneration</td>\n",
       "      <td>0.972607</td>\n",
       "      <td>200</td>\n",
       "      <td>AlteredExpression, Biomarker, GeneticVariation</td>\n",
       "      <td>BeFree, CLINVAR, CTD_human, GAD, LHGDN, MGD, R...</td>\n",
       "    </tr>\n",
       "    <tr>\n",
       "      <th>1</th>\n",
       "      <td>4160</td>\n",
       "      <td>MC4R</td>\n",
       "      <td>melanocortin 4 receptor</td>\n",
       "      <td>umls:C0028754</td>\n",
       "      <td>Obesity</td>\n",
       "      <td>0.940000</td>\n",
       "      <td>264</td>\n",
       "      <td>Biomarker, GeneticVariation</td>\n",
       "      <td>BeFree, CLINVAR, CTD_human, GAD, MGD, RGD, UNI...</td>\n",
       "    </tr>\n",
       "  </tbody>\n",
       "</table>\n",
       "</div>"
      ],
      "text/plain": [
       "   geneId geneSymbol                                     geneName  \\\n",
       "0     540      ATP7B  ATPase, Cu++ transporting, beta polypeptide   \n",
       "1    4160       MC4R                      melanocortin 4 receptor   \n",
       "\n",
       "       diseaseId                    diseaseName     score  NumberOfPubmeds  \\\n",
       "0  umls:C0019202  Hepatolenticular Degeneration  0.972607              200   \n",
       "1  umls:C0028754                        Obesity  0.940000              264   \n",
       "\n",
       "                                  associationType  \\\n",
       "0  AlteredExpression, Biomarker, GeneticVariation   \n",
       "1                     Biomarker, GeneticVariation   \n",
       "\n",
       "                                              source  \n",
       "0  BeFree, CLINVAR, CTD_human, GAD, LHGDN, MGD, R...  \n",
       "1  BeFree, CLINVAR, CTD_human, GAD, MGD, RGD, UNI...  "
      ]
     },
     "execution_count": 4,
     "metadata": {},
     "output_type": "execute_result"
    }
   ],
   "source": [
    "dfc3.head(2)"
   ]
  },
  {
   "cell_type": "code",
   "execution_count": 57,
   "metadata": {
    "collapsed": false,
    "scrolled": false
   },
   "outputs": [
    {
     "data": {
      "image/png": "[encoded data removed]",
      "text/plain": [
       "<matplotlib.figure.Figure at 0x1521f8c88>"
      ]
     },
     "metadata": {},
     "output_type": "display_data"
    }
   ],
   "source": [
    "bins = np.arange(0,1.01,0.01)\n",
    "color = 'CornflowerBlue'\n",
    "\n",
    "\n",
    "plt.rc('font', size='18')\n",
    "plt.ioff()\n",
    "\n",
    "fig, ax = plt.subplots(1, figsize=(10,8))\n",
    "ax.set_xlabel('Weighted score')\n",
    "ax.set_ylabel('Number of associations')\n",
    "ax.set_yscale(\"log\", nonposy='clip')\n",
    "_,_,_ = plt.hist(dfc3['score'], bins=bins, color=color)\n",
    "\n",
    "plt.show()"
   ]
  },
  {
   "cell_type": "markdown",
   "metadata": {},
   "source": [
    "### Plot 2. Example of health statistics\n",
    "Below is a plot showing a snapshot of the time-evolution of the US population across a 50 year gap, 1960-2010. Clearly there is a huge population at 45-60 that will be reaching retirement age soon suggesting a large market developing for treatments of aging-related diseases.\n",
    "\n",
    "The data is from The World Bank's HealthStats database."
   ]
  },
  {
   "cell_type": "code",
   "execution_count": 3,
   "metadata": {
    "collapsed": false
   },
   "outputs": [],
   "source": [
    "health = 'HNPStats-Data.csv'\n",
    "\n",
    "# Roll through gzip csv file using pandas reader\n",
    "readerh = pd.read_csv(health, sep=',', iterator=True, chunksize=10000)\n",
    "\n",
    "# Concatenate to build dataframe\n",
    "dfh = pd.concat(readerh, ignore_index=True)"
   ]
  },
  {
   "cell_type": "code",
   "execution_count": 62,
   "metadata": {
    "collapsed": false
   },
   "outputs": [
    {
     "data": {
      "text/plain": [
       "((17, 60), (17, 60))"
      ]
     },
     "execution_count": 62,
     "metadata": {},
     "output_type": "execute_result"
    }
   ],
   "source": [
    "dfpop = dfh[(dfh['Indicator Code'].str.contains('SP.POP')) & \n",
    "            (dfh['Country Name']=='United States')]\n",
    "dfnew = dfwgt[~dfwgt['Indicator Name'].str.contains('%')]\n",
    "dfnew = dfnew[~dfnew['Indicator Name'].str.contains('Age')]\n",
    "dffemale = dfnew[dfnew['Indicator Name'].str.contains('^Female')]\n",
    "dfmale = dfnew[dfnew['Indicator Name'].str.contains('^Male')]\n",
    "# (dfh['Country Name']=='United States')\n",
    "# dftest = dfwgt.dropna(axis=1)\n",
    "dffemale.shape, dfmale.shape"
   ]
  },
  {
   "cell_type": "code",
   "execution_count": 63,
   "metadata": {
    "collapsed": false
   },
   "outputs": [
    {
     "data": {
      "text/html": [
       "<div>\n",
       "<table border=\"1\" class=\"dataframe\">\n",
       "  <thead>\n",
       "    <tr style=\"text-align: right;\">\n",
       "      <th></th>\n",
       "      <th>Indicator Name</th>\n",
       "      <th>Indicator Code</th>\n",
       "      <th>Country Name</th>\n",
       "      <th>Country Code</th>\n",
       "      <th>1960</th>\n",
       "      <th>1961</th>\n",
       "      <th>1962</th>\n",
       "      <th>1963</th>\n",
       "      <th>1964</th>\n",
       "      <th>1965</th>\n",
       "      <th>...</th>\n",
       "      <th>2006</th>\n",
       "      <th>2007</th>\n",
       "      <th>2008</th>\n",
       "      <th>2009</th>\n",
       "      <th>2010</th>\n",
       "      <th>2011</th>\n",
       "      <th>2012</th>\n",
       "      <th>2013</th>\n",
       "      <th>2014</th>\n",
       "      <th>2015</th>\n",
       "    </tr>\n",
       "  </thead>\n",
       "  <tbody>\n",
       "    <tr>\n",
       "      <th>37531</th>\n",
       "      <td>Male population 00-04</td>\n",
       "      <td>SP.POP.0004.MA</td>\n",
       "      <td>United States</td>\n",
       "      <td>USA</td>\n",
       "      <td>10269373</td>\n",
       "      <td>10381644</td>\n",
       "      <td>10334693</td>\n",
       "      <td>10167349</td>\n",
       "      <td>9954960</td>\n",
       "      <td>9746111</td>\n",
       "      <td>...</td>\n",
       "      <td>10365883</td>\n",
       "      <td>10445317</td>\n",
       "      <td>10411857</td>\n",
       "      <td>10332471</td>\n",
       "      <td>10275163</td>\n",
       "      <td>10265205</td>\n",
       "      <td>10200023</td>\n",
       "      <td>10120318</td>\n",
       "      <td>10063815</td>\n",
       "      <td>NaN</td>\n",
       "    </tr>\n",
       "    <tr>\n",
       "      <th>37778</th>\n",
       "      <td>Male population 05-09</td>\n",
       "      <td>SP.POP.0509.MA</td>\n",
       "      <td>United States</td>\n",
       "      <td>USA</td>\n",
       "      <td>9548513</td>\n",
       "      <td>9728942</td>\n",
       "      <td>9923323</td>\n",
       "      <td>10121776</td>\n",
       "      <td>10295794</td>\n",
       "      <td>10391790</td>\n",
       "      <td>...</td>\n",
       "      <td>9964674</td>\n",
       "      <td>10050400</td>\n",
       "      <td>10176055</td>\n",
       "      <td>10295173</td>\n",
       "      <td>10355459</td>\n",
       "      <td>10372926</td>\n",
       "      <td>10409975</td>\n",
       "      <td>10452754</td>\n",
       "      <td>10489391</td>\n",
       "      <td>NaN</td>\n",
       "    </tr>\n",
       "    <tr>\n",
       "      <th>38025</th>\n",
       "      <td>Male population 10-14</td>\n",
       "      <td>SP.POP.1014.MA</td>\n",
       "      <td>United States</td>\n",
       "      <td>USA</td>\n",
       "      <td>8584499</td>\n",
       "      <td>8860346</td>\n",
       "      <td>9092436</td>\n",
       "      <td>9291881</td>\n",
       "      <td>9485709</td>\n",
       "      <td>9683939</td>\n",
       "      <td>...</td>\n",
       "      <td>10767625</td>\n",
       "      <td>10698204</td>\n",
       "      <td>10637741</td>\n",
       "      <td>10601535</td>\n",
       "      <td>10607821</td>\n",
       "      <td>10510529</td>\n",
       "      <td>10451400</td>\n",
       "      <td>10447733</td>\n",
       "      <td>10480250</td>\n",
       "      <td>NaN</td>\n",
       "    </tr>\n",
       "    <tr>\n",
       "      <th>38272</th>\n",
       "      <td>Male population 15-19</td>\n",
       "      <td>SP.POP.1519.MA</td>\n",
       "      <td>United States</td>\n",
       "      <td>USA</td>\n",
       "      <td>6745032</td>\n",
       "      <td>7096394</td>\n",
       "      <td>7481462</td>\n",
       "      <td>7881060</td>\n",
       "      <td>8259996</td>\n",
       "      <td>8584915</td>\n",
       "      <td>...</td>\n",
       "      <td>11075494</td>\n",
       "      <td>11113626</td>\n",
       "      <td>11166720</td>\n",
       "      <td>11208214</td>\n",
       "      <td>11230586</td>\n",
       "      <td>11290048</td>\n",
       "      <td>11241995</td>\n",
       "      <td>11070869</td>\n",
       "      <td>10836790</td>\n",
       "      <td>NaN</td>\n",
       "    </tr>\n",
       "    <tr>\n",
       "      <th>38519</th>\n",
       "      <td>Male population 20-24</td>\n",
       "      <td>SP.POP.2024.MA</td>\n",
       "      <td>United States</td>\n",
       "      <td>USA</td>\n",
       "      <td>5563854</td>\n",
       "      <td>5745697</td>\n",
       "      <td>5963238</td>\n",
       "      <td>6203822</td>\n",
       "      <td>6465209</td>\n",
       "      <td>6745846</td>\n",
       "      <td>...</td>\n",
       "      <td>10869428</td>\n",
       "      <td>10933388</td>\n",
       "      <td>10984144</td>\n",
       "      <td>11030595</td>\n",
       "      <td>11085990</td>\n",
       "      <td>11195863</td>\n",
       "      <td>11373314</td>\n",
       "      <td>11617979</td>\n",
       "      <td>11855005</td>\n",
       "      <td>NaN</td>\n",
       "    </tr>\n",
       "  </tbody>\n",
       "</table>\n",
       "<p>5 rows × 60 columns</p>\n",
       "</div>"
      ],
      "text/plain": [
       "              Indicator Name  Indicator Code   Country Name Country Code  \\\n",
       "37531  Male population 00-04  SP.POP.0004.MA  United States          USA   \n",
       "37778  Male population 05-09  SP.POP.0509.MA  United States          USA   \n",
       "38025  Male population 10-14  SP.POP.1014.MA  United States          USA   \n",
       "38272  Male population 15-19  SP.POP.1519.MA  United States          USA   \n",
       "38519  Male population 20-24  SP.POP.2024.MA  United States          USA   \n",
       "\n",
       "           1960      1961      1962      1963      1964      1965  ...   \\\n",
       "37531  10269373  10381644  10334693  10167349   9954960   9746111  ...    \n",
       "37778   9548513   9728942   9923323  10121776  10295794  10391790  ...    \n",
       "38025   8584499   8860346   9092436   9291881   9485709   9683939  ...    \n",
       "38272   6745032   7096394   7481462   7881060   8259996   8584915  ...    \n",
       "38519   5563854   5745697   5963238   6203822   6465209   6745846  ...    \n",
       "\n",
       "           2006      2007      2008      2009      2010      2011      2012  \\\n",
       "37531  10365883  10445317  10411857  10332471  10275163  10265205  10200023   \n",
       "37778   9964674  10050400  10176055  10295173  10355459  10372926  10409975   \n",
       "38025  10767625  10698204  10637741  10601535  10607821  10510529  10451400   \n",
       "38272  11075494  11113626  11166720  11208214  11230586  11290048  11241995   \n",
       "38519  10869428  10933388  10984144  11030595  11085990  11195863  11373314   \n",
       "\n",
       "           2013      2014  2015  \n",
       "37531  10120318  10063815   NaN  \n",
       "37778  10452754  10489391   NaN  \n",
       "38025  10447733  10480250   NaN  \n",
       "38272  11070869  10836790   NaN  \n",
       "38519  11617979  11855005   NaN  \n",
       "\n",
       "[5 rows x 60 columns]"
      ]
     },
     "execution_count": 63,
     "metadata": {},
     "output_type": "execute_result"
    }
   ],
   "source": [
    "dfmale.head()"
   ]
  },
  {
   "cell_type": "code",
   "execution_count": 102,
   "metadata": {
    "collapsed": false,
    "scrolled": false
   },
   "outputs": [
    {
     "data": {
      "image/png": "[encoded data removed]",
      "text/plain": [
       "<matplotlib.figure.Figure at 0x10f0ecc88>"
      ]
     },
     "metadata": {},
     "output_type": "display_data"
    }
   ],
   "source": [
    "yrrng = range(1960,2010,5)\n",
    "years = [str(yr) for yr in yrrng]\n",
    "\n",
    "width=1\n",
    "n = len(dfmale['1960'])\n",
    "lbls = dfmale['Indicator Name'].str.replace('Male population','').tolist()\n",
    "yrdate = ['1960','2010']\n",
    "plt.ioff()\n",
    "\n",
    "plt.rc('font', size='16')\n",
    "\n",
    "fig, axes = plt.subplots(1,2,figsize=(16,8))\n",
    "for ax,yr in zip(axes,yrdate):\n",
    "    ax.bar(range(n), dfmale[yr]/1e6, width, color='IndianRed')\n",
    "    ax.bar(range(n), dffemale[yr]/1e6, width, color='CornflowerBlue', bottom=dfmale[yr]/1e6)\n",
    "    ax.set_xlabel('Age group')\n",
    "    ax.set_xticks(np.arange(n) + width/2.)\n",
    "    ax.set_xticklabels(lbls, rotation=60)\n",
    "    # # plt.yticks(np.arange(0, 81, 10))\n",
    "    ax.legend((p1[0], p2[0]), ('Men', 'Women'))\n",
    "    ax.set_ylabel('Population (millions)')\n",
    "    ax.set_title('US Population by Age Group in '+yr)\n",
    "    \n",
    "plt.show()"
   ]
  },
  {
   "cell_type": "code",
   "execution_count": null,
   "metadata": {
    "collapsed": true
   },
   "outputs": [],
   "source": []
  }
 ],
 "metadata": {
  "kernelspec": {
   "display_name": "Python 3",
   "language": "python",
   "name": "python3"
  },
  "language_info": {
   "codemirror_mode": {
    "name": "ipython",
    "version": 3
   },
   "file_extension": ".py",
   "mimetype": "text/x-python",
   "name": "python",
   "nbconvert_exporter": "python",
   "pygments_lexer": "ipython3",
   "version": "3.4.3"
  }
 },
 "nbformat": 4,
 "nbformat_minor": 0
}
