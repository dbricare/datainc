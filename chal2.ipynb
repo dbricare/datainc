{
 "cells": [
  {
   "cell_type": "markdown",
   "metadata": {},
   "source": [
    "### Challenge 2"
   ]
  },
  {
   "cell_type": "code",
   "execution_count": null,
   "metadata": {
    "collapsed": true
   },
   "outputs": [],
   "source": [
    "import pandas as pd\n",
    "\n",
    "file = 'nyc311calls.csv.gz'\n",
    "\n",
    "\n",
    "# Roll through gzip csv file using pandas reader object\n",
    "reader = pd.read_csv(file, compression='gzip', iterator=True, chunksize=10000)\n",
    "\n",
    "\n",
    "# Concatenate to build dataframe\n",
    "df = pd.concat(reader, ignore_index=True)\n",
    "\n",
    "\n",
    "# Fraction of complaints associated with 2nd most popular agency\n",
    "print(format(df['Agency'].value_counts()[1]/df.shape[0]),'.10f')\n",
    "# 0.1719314121\n",
    "\n",
    "\n",
    "# What is the distance (degrees) between the 90% and 10% percentiles of degrees latitude?\n",
    "ser = df['Latitude'].dropna()\n",
    "print(format(np.percentile(ser,90)-np.percentile(ser,10),'.10f')\n",
    "# 0.2357908310"
   ]
  }
 ],
 "metadata": {
  "kernelspec": {
   "display_name": "Python 3",
   "language": "python",
   "name": "python3"
  },
  "language_info": {
   "codemirror_mode": {
    "name": "ipython",
    "version": 3
   },
   "file_extension": ".py",
   "mimetype": "text/x-python",
   "name": "python",
   "nbconvert_exporter": "python",
   "pygments_lexer": "ipython3",
   "version": "3.4.3"
  }
 },
 "nbformat": 4,
 "nbformat_minor": 0
}
