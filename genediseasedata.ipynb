{
 "cells": [
  {
   "cell_type": "markdown",
   "metadata": {},
   "source": [
    "## Data Project Proposal\n",
    "___\n",
    "\n",
    "Over the last few decades, pharmaceutical companies have perfected sophisticated biochemical synthesis techniques to generate an uncountable number of drug candidates. Now it is in the initial steps of drug discovery where the greatest challenges are found. Before synthesis and testing of drug candidates, the relevant disease-causing molecular targets within the body must be identified. Recently, new tools are becoming available in the form of genomic analysis that have the potential to dramatically improve progress in this area. \n",
    "\n",
    "Briefly, genes are encoded in the body that inform internal mechanisms of the types of proteins that must be constructed for various biological processes to function. These proteins represent the molecular targets drug researchers are seeking. Environmental or hereditary factors can causes errors in gene encoding that lead to the development of non-communicable diseases. So by identifying the protein targets and applying an appropriate drug therapy it is possible to treat the disease.\n",
    "\n",
    "Because of these technological advancements in genomics, a multitude of publicly-available databases now exist that describe in detail the link between genes, molecular targets, and disease. Unfortunately this information is organized in non-standard formats and accessed through file downloads, web APIs, or form-based queries. It is not easy for drug researchers to utilize these resources. Furthermore, once a target is identified there is still critical research on the business-side that needs to be performed in order to ensure profitability of the fully-developed pharmaceutical.\n",
    "\n",
    "For these reasons I propose a project that will mate business and technical risk analysis and assist pharmaceutical companies in selecting drug development strategies that maximize the return on their R&D investment. In the first phase, I plan to compile all available gene-disease data into a central repository and develop an appropriate metric to identify the strongest gene-diseases links. In the second phase, I will search public health databases to find the rates of incidence for a long list of common and rare diseases and estimate market values. In the final phase, I will combine these two analyses to develop a list of gene targets and disease areas ranked by highest likelihood of achieving financial and technical success.\n",
    "___"
   ]
  },
  {
   "cell_type": "markdown",
   "metadata": {},
   "source": [
    "### Plot 1. Quality of gene-disease association data\n",
    "This example plot comes from a single database (DisGeNET). The weighted scores represent a metric (0,1) that describes the quality of the established link between the identified gene and associated diseases. Each gene may influence several diseases and each diseases may be influenced by several genes. In the database I intend to construct, the number of diseases linked to a particular gene will influence the gene's 'drug development score'.\n",
    "\n",
    "There are dozens of similar independently constructed databases that need to be scraped or downloaded."
   ]
  },
  {
   "cell_type": "code",
   "execution_count": 158,
   "metadata": {
    "collapsed": true
   },
   "outputs": [],
   "source": [
    "import pandas as pd\n",
    "import numpy as np\n",
    "import matplotlib.pyplot as plt\n",
    "\n",
    "import requests\n",
    "from bs4 import BeautifulSoup\n",
    "import re\n",
    "\n",
    "%matplotlib inline"
   ]
  },
  {
   "cell_type": "code",
   "execution_count": 12,
   "metadata": {
    "collapsed": false
   },
   "outputs": [],
   "source": [
    "file = 'all_gene_disease_associations.txt.gz'\n",
    "\n",
    "\n",
    "# Roll through gzip csv file using pandas reader\n",
    "reader = pd.read_csv(file, sep='\\t', compression='gzip', iterator=True, chunksize=10000)\n",
    "\n",
    "# Concatenate to build dataframe\n",
    "df = pd.concat(reader, ignore_index=True)"
   ]
  },
  {
   "cell_type": "code",
   "execution_count": 18,
   "metadata": {
    "collapsed": false
   },
   "outputs": [
    {
     "data": {
      "text/html": [
       "<div>\n",
       "<table border=\"1\" class=\"dataframe\">\n",
       "  <thead>\n",
       "    <tr style=\"text-align: right;\">\n",
       "      <th></th>\n",
       "      <th>geneId</th>\n",
       "      <th>geneSymbol</th>\n",
       "      <th>geneName</th>\n",
       "      <th>diseaseId</th>\n",
       "      <th>diseaseName</th>\n",
       "      <th>score</th>\n",
       "      <th>NumberOfPubmeds</th>\n",
       "      <th>associationType</th>\n",
       "      <th>source</th>\n",
       "    </tr>\n",
       "  </thead>\n",
       "  <tbody>\n",
       "    <tr>\n",
       "      <th>0</th>\n",
       "      <td>540</td>\n",
       "      <td>ATP7B</td>\n",
       "      <td>ATPase, Cu++ transporting, beta polypeptide</td>\n",
       "      <td>umls:C0019202</td>\n",
       "      <td>Hepatolenticular Degeneration</td>\n",
       "      <td>0.972607</td>\n",
       "      <td>200</td>\n",
       "      <td>AlteredExpression, Biomarker, GeneticVariation</td>\n",
       "      <td>BeFree, CLINVAR, CTD_human, GAD, LHGDN, MGD, R...</td>\n",
       "    </tr>\n",
       "    <tr>\n",
       "      <th>1</th>\n",
       "      <td>4160</td>\n",
       "      <td>MC4R</td>\n",
       "      <td>melanocortin 4 receptor</td>\n",
       "      <td>umls:C0028754</td>\n",
       "      <td>Obesity</td>\n",
       "      <td>0.940000</td>\n",
       "      <td>264</td>\n",
       "      <td>Biomarker, GeneticVariation</td>\n",
       "      <td>BeFree, CLINVAR, CTD_human, GAD, MGD, RGD, UNI...</td>\n",
       "    </tr>\n",
       "    <tr>\n",
       "      <th>2</th>\n",
       "      <td>3667</td>\n",
       "      <td>IRS1</td>\n",
       "      <td>insulin receptor substrate 1</td>\n",
       "      <td>umls:C0011860</td>\n",
       "      <td>Diabetes Mellitus, Type 2</td>\n",
       "      <td>0.907216</td>\n",
       "      <td>112</td>\n",
       "      <td>Biomarker, GeneticVariation</td>\n",
       "      <td>BeFree, CLINVAR, CTD_human, GAD, MGD, RGD, UNI...</td>\n",
       "    </tr>\n",
       "    <tr>\n",
       "      <th>3</th>\n",
       "      <td>3690</td>\n",
       "      <td>ITGB3</td>\n",
       "      <td>integrin, beta 3 (platelet glycoprotein IIIa, ...</td>\n",
       "      <td>umls:C0751711</td>\n",
       "      <td>Anterior ischemic optic neuropathy</td>\n",
       "      <td>0.000284</td>\n",
       "      <td>1</td>\n",
       "      <td>Biomarker</td>\n",
       "      <td>BeFree</td>\n",
       "    </tr>\n",
       "    <tr>\n",
       "      <th>4</th>\n",
       "      <td>4524</td>\n",
       "      <td>MTHFR</td>\n",
       "      <td>methylenetetrahydrofolate reductase (NAD(P)H)</td>\n",
       "      <td>umls:C0751711</td>\n",
       "      <td>Anterior ischemic optic neuropathy</td>\n",
       "      <td>0.000284</td>\n",
       "      <td>1</td>\n",
       "      <td>Biomarker</td>\n",
       "      <td>BeFree</td>\n",
       "    </tr>\n",
       "    <tr>\n",
       "      <th>5</th>\n",
       "      <td>161882</td>\n",
       "      <td>ZFPM1</td>\n",
       "      <td>zinc finger protein, FOG family member 1</td>\n",
       "      <td>umls:C1845837</td>\n",
       "      <td>Dyserythropoietic Anemia with Thrombocytopenia</td>\n",
       "      <td>0.000284</td>\n",
       "      <td>1</td>\n",
       "      <td>GeneticVariation</td>\n",
       "      <td>BeFree</td>\n",
       "    </tr>\n",
       "  </tbody>\n",
       "</table>\n",
       "</div>"
      ],
      "text/plain": [
       "   geneId geneSymbol                                           geneName  \\\n",
       "0     540      ATP7B        ATPase, Cu++ transporting, beta polypeptide   \n",
       "1    4160       MC4R                            melanocortin 4 receptor   \n",
       "2    3667       IRS1                       insulin receptor substrate 1   \n",
       "3    3690      ITGB3  integrin, beta 3 (platelet glycoprotein IIIa, ...   \n",
       "4    4524      MTHFR      methylenetetrahydrofolate reductase (NAD(P)H)   \n",
       "5  161882      ZFPM1           zinc finger protein, FOG family member 1   \n",
       "\n",
       "       diseaseId                                     diseaseName     score  \\\n",
       "0  umls:C0019202                   Hepatolenticular Degeneration  0.972607   \n",
       "1  umls:C0028754                                         Obesity  0.940000   \n",
       "2  umls:C0011860                       Diabetes Mellitus, Type 2  0.907216   \n",
       "3  umls:C0751711              Anterior ischemic optic neuropathy  0.000284   \n",
       "4  umls:C0751711              Anterior ischemic optic neuropathy  0.000284   \n",
       "5  umls:C1845837  Dyserythropoietic Anemia with Thrombocytopenia  0.000284   \n",
       "\n",
       "   NumberOfPubmeds                                 associationType  \\\n",
       "0              200  AlteredExpression, Biomarker, GeneticVariation   \n",
       "1              264                     Biomarker, GeneticVariation   \n",
       "2              112                     Biomarker, GeneticVariation   \n",
       "3                1                                       Biomarker   \n",
       "4                1                                       Biomarker   \n",
       "5                1                                GeneticVariation   \n",
       "\n",
       "                                              source  \n",
       "0  BeFree, CLINVAR, CTD_human, GAD, LHGDN, MGD, R...  \n",
       "1  BeFree, CLINVAR, CTD_human, GAD, MGD, RGD, UNI...  \n",
       "2  BeFree, CLINVAR, CTD_human, GAD, MGD, RGD, UNI...  \n",
       "3                                             BeFree  \n",
       "4                                             BeFree  \n",
       "5                                             BeFree  "
      ]
     },
     "execution_count": 18,
     "metadata": {},
     "output_type": "execute_result"
    }
   ],
   "source": [
    "# Inspect first and last 3 entries\n",
    "dfview = pd.concat((df[:3],df[-3:]),axis=0,ignore_index=True)\n",
    "dfview"
   ]
  },
  {
   "cell_type": "code",
   "execution_count": 10,
   "metadata": {
    "collapsed": false,
    "scrolled": true
   },
   "outputs": [
    {
     "data": {
      "image/png": "[encoded data removed]",
      "text/plain": [
       "<matplotlib.figure.Figure at 0x10b1ca668>"
      ]
     },
     "metadata": {},
     "output_type": "display_data"
    }
   ],
   "source": [
    "bins = np.arange(0,1.01,0.01)\n",
    "color = 'CornflowerBlue'\n",
    "\n",
    "\n",
    "plt.rc('font', size='18')\n",
    "# plt.ioff()\n",
    "\n",
    "fig, ax = plt.subplots(1, figsize=(10,8))\n",
    "ax.set_xlabel('Weighted score')\n",
    "ax.set_ylabel('Number of associations')\n",
    "ax.set_yscale(\"log\", nonposy='clip')\n",
    "_,_,_ = plt.hist(dfc3['score'], bins=bins, color=color)\n",
    "\n",
    "plt.show()"
   ]
  },
  {
   "cell_type": "code",
   "execution_count": null,
   "metadata": {
    "collapsed": true
   },
   "outputs": [],
   "source": [
    "# Mean score of all disease"
   ]
  },
  {
   "cell_type": "code",
   "execution_count": 89,
   "metadata": {
    "collapsed": false,
    "scrolled": false
   },
   "outputs": [
    {
     "data": {
      "text/html": [
       "<div>\n",
       "<table border=\"1\" class=\"dataframe\">\n",
       "  <thead>\n",
       "    <tr style=\"text-align: right;\">\n",
       "      <th></th>\n",
       "      <th>Number of genes</th>\n",
       "    </tr>\n",
       "    <tr>\n",
       "      <th>diseaseName</th>\n",
       "      <th></th>\n",
       "    </tr>\n",
       "  </thead>\n",
       "  <tbody>\n",
       "    <tr>\n",
       "      <th>Carcinogenesis</th>\n",
       "      <td>3398</td>\n",
       "    </tr>\n",
       "    <tr>\n",
       "      <th>Breast Carcinoma</th>\n",
       "      <td>3983</td>\n",
       "    </tr>\n",
       "    <tr>\n",
       "      <th>Malignant neoplasm breast</th>\n",
       "      <td>4219</td>\n",
       "    </tr>\n",
       "    <tr>\n",
       "      <th>Primary malignant neoplasm</th>\n",
       "      <td>5095</td>\n",
       "    </tr>\n",
       "    <tr>\n",
       "      <th>NEOPLASM, MALIGNANT</th>\n",
       "      <td>5689</td>\n",
       "    </tr>\n",
       "  </tbody>\n",
       "</table>\n",
       "</div>"
      ],
      "text/plain": [
       "                            Number of genes\n",
       "diseaseName                                \n",
       "Carcinogenesis                         3398\n",
       "Breast Carcinoma                       3983\n",
       "Malignant neoplasm breast              4219\n",
       "Primary malignant neoplasm             5095\n",
       "NEOPLASM, MALIGNANT                    5689"
      ]
     },
     "execution_count": 89,
     "metadata": {},
     "output_type": "execute_result"
    }
   ],
   "source": [
    "# Number of genes per disease\n",
    "dfdis = df[['diseaseName','geneSymbol']].groupby(['diseaseName'], sort=False).count()\n",
    "dfdis.columns = ['Number of genes']\n",
    "dfdis.sort_values('Number of genes', inplace=True)\n",
    "dfdis.tail()"
   ]
  },
  {
   "cell_type": "code",
   "execution_count": 77,
   "metadata": {
    "collapsed": false,
    "scrolled": true
   },
   "outputs": [
    {
     "name": "stdout",
     "output_type": "stream",
     "text": [
      "(5424, 1)\n"
     ]
    },
    {
     "data": {
      "text/html": [
       "<div>\n",
       "<table border=\"1\" class=\"dataframe\">\n",
       "  <thead>\n",
       "    <tr style=\"text-align: right;\">\n",
       "      <th></th>\n",
       "      <th>Number of genes</th>\n",
       "    </tr>\n",
       "    <tr>\n",
       "      <th>diseaseName</th>\n",
       "      <th></th>\n",
       "    </tr>\n",
       "  </thead>\n",
       "  <tbody>\n",
       "    <tr>\n",
       "      <th>vegetative state</th>\n",
       "      <td>1</td>\n",
       "    </tr>\n",
       "    <tr>\n",
       "      <th>visceral myopathy</th>\n",
       "      <td>1</td>\n",
       "    </tr>\n",
       "    <tr>\n",
       "      <th>vomit recurrent</th>\n",
       "      <td>1</td>\n",
       "    </tr>\n",
       "    <tr>\n",
       "      <th>von Willebrand disease, type IIC</th>\n",
       "      <td>1</td>\n",
       "    </tr>\n",
       "    <tr>\n",
       "      <th>von Willebrand disease, type IID</th>\n",
       "      <td>1</td>\n",
       "    </tr>\n",
       "  </tbody>\n",
       "</table>\n",
       "</div>"
      ],
      "text/plain": [
       "                                  Number of genes\n",
       "diseaseName                                      \n",
       "vegetative state                                1\n",
       "visceral myopathy                               1\n",
       "vomit recurrent                                 1\n",
       "von Willebrand disease, type IIC                1\n",
       "von Willebrand disease, type IID                1"
      ]
     },
     "execution_count": 77,
     "metadata": {},
     "output_type": "execute_result"
    }
   ],
   "source": [
    "# dfdis = dfdis[dfdis['Number of genes']==1].sort_index()\n",
    "print(dfdis.shape)\n",
    "dfdis.tail()"
   ]
  },
  {
   "cell_type": "code",
   "execution_count": 90,
   "metadata": {
    "collapsed": false
   },
   "outputs": [
    {
     "name": "stdout",
     "output_type": "stream",
     "text": [
      "(14586, 2)\n"
     ]
    },
    {
     "data": {
      "text/html": [
       "<div>\n",
       "<table border=\"1\" class=\"dataframe\">\n",
       "  <thead>\n",
       "    <tr style=\"text-align: right;\">\n",
       "      <th></th>\n",
       "      <th>score</th>\n",
       "      <th>geneName</th>\n",
       "    </tr>\n",
       "    <tr>\n",
       "      <th>diseaseName</th>\n",
       "      <th></th>\n",
       "      <th></th>\n",
       "    </tr>\n",
       "  </thead>\n",
       "  <tbody>\n",
       "    <tr>\n",
       "      <th>Hepatolenticular Degeneration</th>\n",
       "      <td>0.972607</td>\n",
       "      <td>ATPase, Cu++ transporting, beta polypeptide</td>\n",
       "    </tr>\n",
       "    <tr>\n",
       "      <th>Obesity</th>\n",
       "      <td>0.940000</td>\n",
       "      <td>melanocortin 4 receptor</td>\n",
       "    </tr>\n",
       "    <tr>\n",
       "      <th>Diabetes Mellitus, Type 2</th>\n",
       "      <td>0.907216</td>\n",
       "      <td>insulin receptor substrate 1</td>\n",
       "    </tr>\n",
       "    <tr>\n",
       "      <th>Rett Syndrome</th>\n",
       "      <td>0.900000</td>\n",
       "      <td>methyl CpG binding protein 2</td>\n",
       "    </tr>\n",
       "    <tr>\n",
       "      <th>Cystic Fibrosis</th>\n",
       "      <td>0.900000</td>\n",
       "      <td>cystic fibrosis transmembrane conductance regu...</td>\n",
       "    </tr>\n",
       "  </tbody>\n",
       "</table>\n",
       "</div>"
      ],
      "text/plain": [
       "                                  score  \\\n",
       "diseaseName                               \n",
       "Hepatolenticular Degeneration  0.972607   \n",
       "Obesity                        0.940000   \n",
       "Diabetes Mellitus, Type 2      0.907216   \n",
       "Rett Syndrome                  0.900000   \n",
       "Cystic Fibrosis                0.900000   \n",
       "\n",
       "                                                                        geneName  \n",
       "diseaseName                                                                       \n",
       "Hepatolenticular Degeneration        ATPase, Cu++ transporting, beta polypeptide  \n",
       "Obesity                                                  melanocortin 4 receptor  \n",
       "Diabetes Mellitus, Type 2                           insulin receptor substrate 1  \n",
       "Rett Syndrome                                       methyl CpG binding protein 2  \n",
       "Cystic Fibrosis                cystic fibrosis transmembrane conductance regu...  "
      ]
     },
     "execution_count": 90,
     "metadata": {},
     "output_type": "execute_result"
    }
   ],
   "source": [
    "dfscore = df[['diseaseName','score','geneName']].drop_duplicates('diseaseName').set_index('diseaseName')\n",
    "print(dfscore.shape)\n",
    "dfscore.head()"
   ]
  },
  {
   "cell_type": "code",
   "execution_count": 121,
   "metadata": {
    "collapsed": false
   },
   "outputs": [
    {
     "name": "stdout",
     "output_type": "stream",
     "text": [
      "(14586, 3)\n"
     ]
    },
    {
     "data": {
      "text/html": [
       "<div>\n",
       "<table border=\"1\" class=\"dataframe\">\n",
       "  <thead>\n",
       "    <tr style=\"text-align: right;\">\n",
       "      <th></th>\n",
       "      <th>Number of genes</th>\n",
       "      <th>score</th>\n",
       "      <th>geneName</th>\n",
       "    </tr>\n",
       "  </thead>\n",
       "  <tbody>\n",
       "    <tr>\n",
       "      <th>Hepatolenticular Degeneration</th>\n",
       "      <td>42</td>\n",
       "      <td>0.972607</td>\n",
       "      <td>ATPase, Cu++ transporting, beta polypeptide</td>\n",
       "    </tr>\n",
       "    <tr>\n",
       "      <th>Obesity</th>\n",
       "      <td>1693</td>\n",
       "      <td>0.940000</td>\n",
       "      <td>melanocortin 4 receptor</td>\n",
       "    </tr>\n",
       "    <tr>\n",
       "      <th>Diabetes Mellitus, Type 2</th>\n",
       "      <td>1716</td>\n",
       "      <td>0.907216</td>\n",
       "      <td>insulin receptor substrate 1</td>\n",
       "    </tr>\n",
       "    <tr>\n",
       "      <th>Cystic Fibrosis</th>\n",
       "      <td>401</td>\n",
       "      <td>0.900000</td>\n",
       "      <td>cystic fibrosis transmembrane conductance regu...</td>\n",
       "    </tr>\n",
       "    <tr>\n",
       "      <th>Rett Syndrome</th>\n",
       "      <td>119</td>\n",
       "      <td>0.900000</td>\n",
       "      <td>methyl CpG binding protein 2</td>\n",
       "    </tr>\n",
       "  </tbody>\n",
       "</table>\n",
       "</div>"
      ],
      "text/plain": [
       "                               Number of genes     score  \\\n",
       "Hepatolenticular Degeneration               42  0.972607   \n",
       "Obesity                                   1693  0.940000   \n",
       "Diabetes Mellitus, Type 2                 1716  0.907216   \n",
       "Cystic Fibrosis                            401  0.900000   \n",
       "Rett Syndrome                              119  0.900000   \n",
       "\n",
       "                                                                        geneName  \n",
       "Hepatolenticular Degeneration        ATPase, Cu++ transporting, beta polypeptide  \n",
       "Obesity                                                  melanocortin 4 receptor  \n",
       "Diabetes Mellitus, Type 2                           insulin receptor substrate 1  \n",
       "Cystic Fibrosis                cystic fibrosis transmembrane conductance regu...  \n",
       "Rett Syndrome                                       methyl CpG binding protein 2  "
      ]
     },
     "execution_count": 121,
     "metadata": {},
     "output_type": "execute_result"
    }
   ],
   "source": [
    "dfscoredis = pd.concat((dfdis,dfscore),axis=1,ignore_index=False).dropna()\n",
    "print(dfscoredis.shape)\n",
    "dfscoredis.sort_values('score',ascending=False).head()"
   ]
  },
  {
   "cell_type": "code",
   "execution_count": 306,
   "metadata": {
    "collapsed": false
   },
   "outputs": [],
   "source": [
    "# Select higher quality data by removing lower scores and high number of genes\n",
    "dfthresh = dfscoredis.copy()\n",
    "dfthresh = dfthresh[(dfthresh['Number of genes']<5) & (dfthresh['score']>0.7)]\n",
    "# print(dfthresh.shape)"
   ]
  },
  {
   "cell_type": "code",
   "execution_count": 305,
   "metadata": {
    "collapsed": false,
    "scrolled": true
   },
   "outputs": [
    {
     "name": "stdout",
     "output_type": "stream",
     "text": [
      "['Canavan Disease', 'Cleidocranial Dysplasia', 'Glycogen Storage Disease Type IIb', 'Primary hyperoxaluria type 1', 'Mucopolysaccharidosis VII', 'Biotinidase Deficiency', 'Alkaptonuria', 'Oculocutaneous albinism type 1', 'Focal Dermal Hypoplasia', 'Congenital contractural arachnodactyly', 'Papillorenal syndrome', 'Paralysis, Hyperkalemic Periodic', 'Ulnar-mammary syndrome', 'Blepharophimosis, Ptosis, and Epicanthus Inversus', 'Autosomal Dominant Lateral Temporal Lobe Epilepsy', 'Triglyceride storage disease with impaired long-chain fatty acid oxidation', 'Vitamin D Hydroxylation-Deficient Rickets, Type 1A', 'Allan-Herndon-Dudley syndrome', 'Episodic Ataxia, Type 1', 'Giant Axonal Neuropathy', 'Lymphedema distichiasis syndrome', 'Systemic carnitine deficiency', 'Hyperparathyroidism 1', 'Glycogen Storage Disease IB', 'Lipoid congenital adrenal hyperplasia', 'Bestrophinopathy', 'alpha-Mannosidosis', 'Platelet Glycoprotein IV Deficiency', 'Muscular dystrophy congenital, merosin negative', 'Thiopurine S methyltranferase deficiency', 'X-linked periventricular heterotopia', 'Popliteal Pterygium Syndrome', 'Hand foot uterus syndrome', 'Hyperprolinemia', 'Convulsions benign familial neonatal dominant form', 'Argininosuccinic Aciduria', 'Craniosynostosis, Type 2', 'Doyne honeycomb retinal dystrophy', 'Brachydactyly type C', 'Oto-palato-digital syndrome, type 2', 'Hemochromatosis, type 3', 'Legius syndrome', 'Niemann-Pick Disease, Type A', 'Johanson Blizzard syndrome', 'Kleefstra Syndrome', 'Thiamine responsive megaloblastic anemia syndrome', 'Plasminogen Deficiency, Type I', 'Osteolysis hereditary multicentric', 'Ehlers-Danlos syndrome type 6', 'Ectodermal Dysplasia, Hypohidrotic, Autosomal Recessive', 'LIG4 Syndrome', 'Mosaic variegated aneuploidy syndrome', 'succinic semialdehyde dehydrogenase deficiency', 'Arterial calcification of infancy', 'Medullary Cystic Kidney Disease 2', 'Charcot-Marie-Tooth disease, Type 4B1', 'Charcot-Marie-Tooth disease, Type 4C', 'Chondrodysplasia, Grebe type', 'Robinow syndrome, autosomal recessive', 'Cutis Gyrata Syndrome of Beare And Stevenson', 'Achondrogenesis type 2', 'Rhizomelic chondrodysplasia punctata, type 1', 'Diarrhea 5, With Tufting Enteropathy, Congenital', 'Charcot-Marie-Tooth Disease, Type 4j', 'Hemochromatosis, type 4', 'Dyggve-Melchior-Clausen syndrome', 'Char syndrome', 'Maturity-Onset Diabetes of the Young, Type 1', 'Usher syndrome, type 2A', 'Leukokeratosis, Hereditary Mucosal', 'Tietz syndrome', 'Finnish lethal neonatal metabolic syndrome', 'Myeloperoxidase Deficiency', 'Ichthyosis prematurity syndrome', 'N-acetyl glutamate synthetase deficiency', 'Ehlers-Danlos syndrome type 2', 'Corticosteroid-Binding Globulin Deficiency', 'Giedion syndrome', 'Stickler syndrome, type 2', 'Microcephaly, Primary Autosomal Recessive, 1', 'Ter Haar syndrome', 'Purine Nucleoside Phosphorylase Deficiency', 'Charcot-Marie-Tooth disease, Type 2D', 'Limb-girdle muscular dystrophy type 2F', 'Exudative vitreoretinopathy 1', 'Retinal cone dystrophy 2', 'VENTRICULAR TACHYCARDIA, CATECHOLAMINERGIC POLYMORPHIC, 2', 'FANCONI ANEMIA, COMPLEMENTATION GROUP D2', 'Meckel syndrome type 3', 'Metaphyseal chondrodysplasia Schmid type', 'Mucolipidosis II Alpha Beta', 'Neutrophilia, Hereditary', 'Fuhrmann syndrome', 'Guanidinoacetate methyltransferase deficiency', 'Charcot-Marie-Tooth disease, Type 2E', 'Fibular hypoplasia and complex brachydactyly', 'Thyroid Hormone Resistance, Generalized, Autosomal Dominant', 'Xeroderma pigmentosum, variant type', 'Dent disease 1', 'Donnai-Barrow syndrome']\n"
     ]
    }
   ],
   "source": [
    "# Identify disease incidence rate from nih genetics database \n",
    "dfthresh.sort_values('score', ascending=False, inplace=True)\n",
    "idx = dfthresh.index[:100].tolist()\n",
    "print(idx)\n",
    "\n",
    "dburl = 'http://ghr.nlm.nih.gov/condition/'\n",
    "urls = [dburl+str.lower(s.replace(' ','-')) for s in idx]\n",
    "# print(len(urls))\n",
    "\n",
    "incid = []\n",
    "for url in urls:\n",
    "\n",
    "    # Request content from web page\n",
    "    result = requests.get(url)\n",
    "    c = result.content\n",
    "\n",
    "    # Set as Beautiful Soup Object\n",
    "    soup = BeautifulSoup(c, \"lxml\")\n",
    "    res = soup.find_all(\"div\",{'class':'freepp'})\n",
    "    if len(res) == 0:\n",
    "        res = [None, 'Disease not found in database. May be known by a different name.']\n",
    "    holder = BeautifulSoup(str(res[1]),\"lxml\").get_text()\n",
    "    incid.append(holder.replace('\\n',''))"
   ]
  },
  {
   "cell_type": "code",
   "execution_count": 307,
   "metadata": {
    "collapsed": false,
    "scrolled": false
   },
   "outputs": [
    {
     "data": {
      "text/html": [
       "<div>\n",
       "<table border=\"1\" class=\"dataframe\">\n",
       "  <thead>\n",
       "    <tr style=\"text-align: right;\">\n",
       "      <th></th>\n",
       "      <th>Number of genes</th>\n",
       "      <th>score</th>\n",
       "      <th>geneName</th>\n",
       "      <th>Incidence</th>\n",
       "    </tr>\n",
       "  </thead>\n",
       "  <tbody>\n",
       "    <tr>\n",
       "      <th>Canavan Disease</th>\n",
       "      <td>4</td>\n",
       "      <td>0.839553</td>\n",
       "      <td>aspartoacylase</td>\n",
       "      <td>While this condition occurs in people of all e...</td>\n",
       "    </tr>\n",
       "    <tr>\n",
       "      <th>Cleidocranial Dysplasia</th>\n",
       "      <td>3</td>\n",
       "      <td>0.763477</td>\n",
       "      <td>runt-related transcription factor 2</td>\n",
       "      <td>Cleidocranial dysplasia occurs in approximatel...</td>\n",
       "    </tr>\n",
       "    <tr>\n",
       "      <th>Glycogen Storage Disease Type IIb</th>\n",
       "      <td>4</td>\n",
       "      <td>0.741969</td>\n",
       "      <td>lysosomal-associated membrane protein 2</td>\n",
       "      <td>Disease not found in database. May be known by...</td>\n",
       "    </tr>\n",
       "    <tr>\n",
       "      <th>Primary hyperoxaluria type 1</th>\n",
       "      <td>4</td>\n",
       "      <td>0.738144</td>\n",
       "      <td>alanine-glyoxylate aminotransferase</td>\n",
       "      <td>Disease not found in database. May be known by...</td>\n",
       "    </tr>\n",
       "    <tr>\n",
       "      <th>Mucopolysaccharidosis VII</th>\n",
       "      <td>4</td>\n",
       "      <td>0.734742</td>\n",
       "      <td>glucuronidase, beta</td>\n",
       "      <td>Disease not found in database. May be known by...</td>\n",
       "    </tr>\n",
       "    <tr>\n",
       "      <th>Biotinidase Deficiency</th>\n",
       "      <td>4</td>\n",
       "      <td>0.733854</td>\n",
       "      <td>biotinidase</td>\n",
       "      <td>Profound or partial biotinidase deficiency occ...</td>\n",
       "    </tr>\n",
       "    <tr>\n",
       "      <th>Alkaptonuria</th>\n",
       "      <td>1</td>\n",
       "      <td>0.733834</td>\n",
       "      <td>homogentisate 1,2-dioxygenase</td>\n",
       "      <td>This condition is rare, affecting 1 in 250,000...</td>\n",
       "    </tr>\n",
       "    <tr>\n",
       "      <th>Oculocutaneous albinism type 1</th>\n",
       "      <td>3</td>\n",
       "      <td>0.733325</td>\n",
       "      <td>tyrosinase</td>\n",
       "      <td>Disease not found in database. May be known by...</td>\n",
       "    </tr>\n",
       "    <tr>\n",
       "      <th>Focal Dermal Hypoplasia</th>\n",
       "      <td>2</td>\n",
       "      <td>0.732671</td>\n",
       "      <td>porcupine homolog (Drosophila)</td>\n",
       "      <td>Focal dermal hypoplasia appears to be a rare c...</td>\n",
       "    </tr>\n",
       "    <tr>\n",
       "      <th>Congenital contractural arachnodactyly</th>\n",
       "      <td>3</td>\n",
       "      <td>0.730539</td>\n",
       "      <td>fibrillin 2</td>\n",
       "      <td>The prevalence of congenital contractural arac...</td>\n",
       "    </tr>\n",
       "    <tr>\n",
       "      <th>Papillorenal syndrome</th>\n",
       "      <td>2</td>\n",
       "      <td>0.729356</td>\n",
       "      <td>paired box 2</td>\n",
       "      <td>Disease not found in database. May be known by...</td>\n",
       "    </tr>\n",
       "    <tr>\n",
       "      <th>Paralysis, Hyperkalemic Periodic</th>\n",
       "      <td>3</td>\n",
       "      <td>0.729327</td>\n",
       "      <td>sodium channel, voltage gated, type IV alpha s...</td>\n",
       "      <td>Disease not found in database. May be known by...</td>\n",
       "    </tr>\n",
       "    <tr>\n",
       "      <th>Ulnar-mammary syndrome</th>\n",
       "      <td>4</td>\n",
       "      <td>0.728505</td>\n",
       "      <td>T-box 3</td>\n",
       "      <td>Disease not found in database. May be known by...</td>\n",
       "    </tr>\n",
       "    <tr>\n",
       "      <th>Blepharophimosis, Ptosis, and Epicanthus Inversus</th>\n",
       "      <td>3</td>\n",
       "      <td>0.728271</td>\n",
       "      <td>forkhead box L2</td>\n",
       "      <td>Disease not found in database. May be known by...</td>\n",
       "    </tr>\n",
       "    <tr>\n",
       "      <th>Autosomal Dominant Lateral Temporal Lobe Epilepsy</th>\n",
       "      <td>4</td>\n",
       "      <td>0.727088</td>\n",
       "      <td>leucine-rich, glioma inactivated 1</td>\n",
       "      <td>Disease not found in database. May be known by...</td>\n",
       "    </tr>\n",
       "    <tr>\n",
       "      <th>Triglyceride storage disease with impaired long-chain fatty acid oxidation</th>\n",
       "      <td>3</td>\n",
       "      <td>0.725954</td>\n",
       "      <td>abhydrolase domain containing 5</td>\n",
       "      <td>Disease not found in database. May be known by...</td>\n",
       "    </tr>\n",
       "    <tr>\n",
       "      <th>Vitamin D Hydroxylation-Deficient Rickets, Type 1A</th>\n",
       "      <td>2</td>\n",
       "      <td>0.725103</td>\n",
       "      <td>cytochrome P450, family 27, subfamily B, polyp...</td>\n",
       "      <td>Disease not found in database. May be known by...</td>\n",
       "    </tr>\n",
       "    <tr>\n",
       "      <th>Allan-Herndon-Dudley syndrome</th>\n",
       "      <td>2</td>\n",
       "      <td>0.724820</td>\n",
       "      <td>solute carrier family 16, member 2 (thyroid ho...</td>\n",
       "      <td>Allan-Herndon-Dudley syndrome appears to be a ...</td>\n",
       "    </tr>\n",
       "    <tr>\n",
       "      <th>Episodic Ataxia, Type 1</th>\n",
       "      <td>2</td>\n",
       "      <td>0.724536</td>\n",
       "      <td>potassium channel, voltage gated shaker relate...</td>\n",
       "      <td>Disease not found in database. May be known by...</td>\n",
       "    </tr>\n",
       "    <tr>\n",
       "      <th>Giant Axonal Neuropathy</th>\n",
       "      <td>4</td>\n",
       "      <td>0.724253</td>\n",
       "      <td>gigaxonin</td>\n",
       "      <td>Giant axonal neuropathy is a very rare disorde...</td>\n",
       "    </tr>\n",
       "  </tbody>\n",
       "</table>\n",
       "</div>"
      ],
      "text/plain": [
       "                                                    Number of genes     score  \\\n",
       "Canavan Disease                                                   4  0.839553   \n",
       "Cleidocranial Dysplasia                                           3  0.763477   \n",
       "Glycogen Storage Disease Type IIb                                 4  0.741969   \n",
       "Primary hyperoxaluria type 1                                      4  0.738144   \n",
       "Mucopolysaccharidosis VII                                         4  0.734742   \n",
       "Biotinidase Deficiency                                            4  0.733854   \n",
       "Alkaptonuria                                                      1  0.733834   \n",
       "Oculocutaneous albinism type 1                                    3  0.733325   \n",
       "Focal Dermal Hypoplasia                                           2  0.732671   \n",
       "Congenital contractural arachnodactyly                            3  0.730539   \n",
       "Papillorenal syndrome                                             2  0.729356   \n",
       "Paralysis, Hyperkalemic Periodic                                  3  0.729327   \n",
       "Ulnar-mammary syndrome                                            4  0.728505   \n",
       "Blepharophimosis, Ptosis, and Epicanthus Inversus                 3  0.728271   \n",
       "Autosomal Dominant Lateral Temporal Lobe Epilepsy                 4  0.727088   \n",
       "Triglyceride storage disease with impaired long...                3  0.725954   \n",
       "Vitamin D Hydroxylation-Deficient Rickets, Type 1A                2  0.725103   \n",
       "Allan-Herndon-Dudley syndrome                                     2  0.724820   \n",
       "Episodic Ataxia, Type 1                                           2  0.724536   \n",
       "Giant Axonal Neuropathy                                           4  0.724253   \n",
       "\n",
       "                                                                                             geneName  \\\n",
       "Canavan Disease                                                                        aspartoacylase   \n",
       "Cleidocranial Dysplasia                                           runt-related transcription factor 2   \n",
       "Glycogen Storage Disease Type IIb                             lysosomal-associated membrane protein 2   \n",
       "Primary hyperoxaluria type 1                                      alanine-glyoxylate aminotransferase   \n",
       "Mucopolysaccharidosis VII                                                         glucuronidase, beta   \n",
       "Biotinidase Deficiency                                                                    biotinidase   \n",
       "Alkaptonuria                                                            homogentisate 1,2-dioxygenase   \n",
       "Oculocutaneous albinism type 1                                                             tyrosinase   \n",
       "Focal Dermal Hypoplasia                                                porcupine homolog (Drosophila)   \n",
       "Congenital contractural arachnodactyly                                                    fibrillin 2   \n",
       "Papillorenal syndrome                                                                    paired box 2   \n",
       "Paralysis, Hyperkalemic Periodic                    sodium channel, voltage gated, type IV alpha s...   \n",
       "Ulnar-mammary syndrome                                                                        T-box 3   \n",
       "Blepharophimosis, Ptosis, and Epicanthus Inversus                                     forkhead box L2   \n",
       "Autosomal Dominant Lateral Temporal Lobe Epilepsy                  leucine-rich, glioma inactivated 1   \n",
       "Triglyceride storage disease with impaired long...                    abhydrolase domain containing 5   \n",
       "Vitamin D Hydroxylation-Deficient Rickets, Type 1A  cytochrome P450, family 27, subfamily B, polyp...   \n",
       "Allan-Herndon-Dudley syndrome                       solute carrier family 16, member 2 (thyroid ho...   \n",
       "Episodic Ataxia, Type 1                             potassium channel, voltage gated shaker relate...   \n",
       "Giant Axonal Neuropathy                                                                     gigaxonin   \n",
       "\n",
       "                                                                                            Incidence  \n",
       "Canavan Disease                                     While this condition occurs in people of all e...  \n",
       "Cleidocranial Dysplasia                             Cleidocranial dysplasia occurs in approximatel...  \n",
       "Glycogen Storage Disease Type IIb                   Disease not found in database. May be known by...  \n",
       "Primary hyperoxaluria type 1                        Disease not found in database. May be known by...  \n",
       "Mucopolysaccharidosis VII                           Disease not found in database. May be known by...  \n",
       "Biotinidase Deficiency                              Profound or partial biotinidase deficiency occ...  \n",
       "Alkaptonuria                                        This condition is rare, affecting 1 in 250,000...  \n",
       "Oculocutaneous albinism type 1                      Disease not found in database. May be known by...  \n",
       "Focal Dermal Hypoplasia                             Focal dermal hypoplasia appears to be a rare c...  \n",
       "Congenital contractural arachnodactyly              The prevalence of congenital contractural arac...  \n",
       "Papillorenal syndrome                               Disease not found in database. May be known by...  \n",
       "Paralysis, Hyperkalemic Periodic                    Disease not found in database. May be known by...  \n",
       "Ulnar-mammary syndrome                              Disease not found in database. May be known by...  \n",
       "Blepharophimosis, Ptosis, and Epicanthus Inversus   Disease not found in database. May be known by...  \n",
       "Autosomal Dominant Lateral Temporal Lobe Epilepsy   Disease not found in database. May be known by...  \n",
       "Triglyceride storage disease with impaired long...  Disease not found in database. May be known by...  \n",
       "Vitamin D Hydroxylation-Deficient Rickets, Type 1A  Disease not found in database. May be known by...  \n",
       "Allan-Herndon-Dudley syndrome                       Allan-Herndon-Dudley syndrome appears to be a ...  \n",
       "Episodic Ataxia, Type 1                             Disease not found in database. May be known by...  \n",
       "Giant Axonal Neuropathy                             Giant axonal neuropathy is a very rare disorde...  "
      ]
     },
     "execution_count": 307,
     "metadata": {},
     "output_type": "execute_result"
    }
   ],
   "source": [
    "# dfthresh.head(10)\n",
    "incidser = pd.Series(incid, index=idx, name='Incidence')\n",
    "dfincid = pd.concat((dfthresh, incidser), axis=1, ignore_index=False)\n",
    "dfincid.sort_values('score', ascending=False, inplace=True)\n",
    "dfincid.head(20)"
   ]
  },
  {
   "cell_type": "code",
   "execution_count": null,
   "metadata": {
    "collapsed": true
   },
   "outputs": [],
   "source": [
    "# Generate colors for graphs\n",
    "colorseq = ['#1f77b4', '#aec7e8', '#ff7f0e', '#ffbb78', '#2ca02c',\n",
    "            '#98df8a', '#d62728', '#ff9896', '#9467bd', '#c5b0d5',\n",
    "            '#8c564b', '#c49c94', '#e377c2', '#f7b6d2', '#7f7f7f',\n",
    "            '#c7c7c7', '#bcbd22', '#dbdb8d', '#17becf', '#9edae5']"
   ]
  },
  {
   "cell_type": "code",
   "execution_count": null,
   "metadata": {
    "collapsed": true
   },
   "outputs": [],
   "source": []
  }
 ],
 "metadata": {
  "kernelspec": {
   "display_name": "Python 3",
   "language": "python",
   "name": "python3"
  },
  "language_info": {
   "codemirror_mode": {
    "name": "ipython",
    "version": 3
   },
   "file_extension": ".py",
   "mimetype": "text/x-python",
   "name": "python",
   "nbconvert_exporter": "python",
   "pygments_lexer": "ipython3",
   "version": "3.4.3"
  }
 },
 "nbformat": 4,
 "nbformat_minor": 0
}
