{
 "cells": [
  {
   "cell_type": "markdown",
   "metadata": {},
   "source": [
    "# Reducing risk in drug development by incorporating gene-disease association data\n",
    "___\n",
    "\n",
    "## Introduction\n",
    "\n",
    "Over the last few decades, pharmaceutical companies have used sophisticated biochemical synthesis techniques to generate an uncountable number of drug candidates. It is now in the initial steps of drug discovery where the greatest challenges are found. Before synthesis and testing of drug candidates, the relevant disease-causing molecular targets within the body must be identified. Fortunately, new tools in the form of genomic analyses are now gaining widespread acceptance and have the potential to dramatically improve progress in this area. \n",
    "\n",
    "A common molecular mechanism underlines many non-communicable diseases. In the body, genes carry information that dictate the structure and amount of proteins that must be synthesized for proper biological function. Environmental or hereditary factors can causes errors in gene encoding that lead to undesirable changes in protein synthesis. The constituents of these protein synthesis pathways represent the \"molecular targets\" drug researchers are seeking. By identifying the appropriate malfunctioning protein pathway, an effective drug therapy can be developed. \n",
    "\n",
    "Because of recent technological advancements in genomics, a multitude of publicly-available databases now exist that describe in detail the link between genes, molecular targets, and disease. Unfortunately this information is organized in non-standard formats and accessed through file downloads, web APIs, or form-based queries making it difficult for drug researchers to utilize these resources. Furthermore, once a target is identified there is still critical research on the business-side that needs to be performed in order to ensure profitability of the fully-developed pharmaceutical.\n",
    "\n",
    "For these reasons I propose a project that will mate business and technical risk analysis and assist pharmaceutical companies in selecting drug development strategies that maximize the return on their R&D investment. In the first phase, I plan to compile all available gene-disease data into a central repository and develop an appropriate metric to identify the strongest gene-diseases links. In the second phase, I will search public health databases to find the rates of incidence for a long list of common and rare diseases and estimate market values. In the final phase, I will combine these two analyses to develop a list of gene targets and disease areas ranked by highest likelihood of achieving financial and technical success.\n",
    "\n",
    "This data-based approach has an important advantage over traditional laboratory methods for drug discovery. Analyzing human genetics data bypasses a time-consuming and costly cell culture and animal preclinical experiments. In addition, verified gene-disease associations provide researchers with <i>a priori</i> information indicating that addressing a specific drug target will prove effective at treating the disease, thus reducing the risk of wasted R&D efforts."
   ]
  },
  {
   "cell_type": "markdown",
   "metadata": {},
   "source": [
    "# Goal: \n",
    "## Identify the disease(s) with a strong association to a small number of genes"
   ]
  },
  {
   "cell_type": "markdown",
   "metadata": {},
   "source": [
    "___\n",
    "## Overview of gene-disease association data\n",
    "This example data comes from a single database (DisGeNET): http://www.disgenet.org/web/DisGeNET/menu/home\n",
    "\n",
    "The weighted scores described below represent a metric [0,1] that describes the quality of the established link between the identified gene and associated diseases. Each gene may influence several diseases and each diseases may be influenced by several genes. \n",
    "\n",
    "<i>Score = ( WUniProt + WCTDhuman + WClinVar ) + ( WRat + WMouse ) + ( WGAD + WLHGDN + WBeFree )</i>\n",
    "\n",
    "where <i>WUniProt = 0 or 0.3, WCTDhuman = 0 or 0.3, WRat = 0 or 0.1, WMouse = 0 or 0.1, WLiterature = WGAD or WLHGDN or WBeFree and WLiterature = 0.06 for LHGDN or BeFree, and WLiterature = 0.08 for GAD</i>. If the number of publications reporting a gene-disease association in the source database (<i>n<sub>gd</sub></i>) multiplied by 100 and divided by the number of publications in the source (<i>NLiterature</i>) is less than this quotient then <i> WLiterature = (n<sub>gd</sub> * 100) / NLiterature</i> is reported instead.\n",
    "\n",
    "In the database I intend to construct, the number of diseases linked to a particular gene will influence the gene's 'drug development score'.\n",
    "\n",
    "There are dozens of similar independently constructed databases that will need to be scraped or downloaded."
   ]
  },
  {
   "cell_type": "code",
   "execution_count": 171,
   "metadata": {
    "collapsed": true
   },
   "outputs": [],
   "source": [
    "import pandas as pd\n",
    "import numpy as np\n",
    "import matplotlib.pyplot as plt\n",
    "import matplotlib.ticker as ticker\n",
    "import matplotlib.patches as mpatches\n",
    "\n",
    "import requests\n",
    "from bs4 import BeautifulSoup\n",
    "import re\n",
    "\n",
    "%matplotlib inline"
   ]
  },
  {
   "cell_type": "code",
   "execution_count": 2,
   "metadata": {
    "collapsed": false
   },
   "outputs": [],
   "source": [
    "file = 'all_gene_disease_associations.txt.gz'\n",
    "\n",
    "# Roll through gzip csv file using pandas reader\n",
    "reader = pd.read_csv(file, sep='\\t', compression='gzip', iterator=True, chunksize=10000)\n",
    "\n",
    "# Concatenate to build dataframe\n",
    "df = pd.concat(reader, ignore_index=True)"
   ]
  },
  {
   "cell_type": "code",
   "execution_count": 3,
   "metadata": {
    "collapsed": false
   },
   "outputs": [
    {
     "data": {
      "text/html": [
       "<div>\n",
       "<table border=\"1\" class=\"dataframe\">\n",
       "  <thead>\n",
       "    <tr style=\"text-align: right;\">\n",
       "      <th></th>\n",
       "      <th>geneId</th>\n",
       "      <th>geneSymbol</th>\n",
       "      <th>geneName</th>\n",
       "      <th>diseaseId</th>\n",
       "      <th>diseaseName</th>\n",
       "      <th>score</th>\n",
       "      <th>NumberOfPubmeds</th>\n",
       "      <th>associationType</th>\n",
       "      <th>source</th>\n",
       "    </tr>\n",
       "  </thead>\n",
       "  <tbody>\n",
       "    <tr>\n",
       "      <th>0</th>\n",
       "      <td>540</td>\n",
       "      <td>ATP7B</td>\n",
       "      <td>ATPase, Cu++ transporting, beta polypeptide</td>\n",
       "      <td>umls:C0019202</td>\n",
       "      <td>Hepatolenticular Degeneration</td>\n",
       "      <td>0.972607</td>\n",
       "      <td>200</td>\n",
       "      <td>AlteredExpression, Biomarker, GeneticVariation</td>\n",
       "      <td>BeFree, CLINVAR, CTD_human, GAD, LHGDN, MGD, R...</td>\n",
       "    </tr>\n",
       "    <tr>\n",
       "      <th>1</th>\n",
       "      <td>4160</td>\n",
       "      <td>MC4R</td>\n",
       "      <td>melanocortin 4 receptor</td>\n",
       "      <td>umls:C0028754</td>\n",
       "      <td>Obesity</td>\n",
       "      <td>0.940000</td>\n",
       "      <td>264</td>\n",
       "      <td>Biomarker, GeneticVariation</td>\n",
       "      <td>BeFree, CLINVAR, CTD_human, GAD, MGD, RGD, UNI...</td>\n",
       "    </tr>\n",
       "    <tr>\n",
       "      <th>2</th>\n",
       "      <td>3667</td>\n",
       "      <td>IRS1</td>\n",
       "      <td>insulin receptor substrate 1</td>\n",
       "      <td>umls:C0011860</td>\n",
       "      <td>Diabetes Mellitus, Type 2</td>\n",
       "      <td>0.907216</td>\n",
       "      <td>112</td>\n",
       "      <td>Biomarker, GeneticVariation</td>\n",
       "      <td>BeFree, CLINVAR, CTD_human, GAD, MGD, RGD, UNI...</td>\n",
       "    </tr>\n",
       "    <tr>\n",
       "      <th>3</th>\n",
       "      <td>3690</td>\n",
       "      <td>ITGB3</td>\n",
       "      <td>integrin, beta 3 (platelet glycoprotein IIIa, ...</td>\n",
       "      <td>umls:C0751711</td>\n",
       "      <td>Anterior ischemic optic neuropathy</td>\n",
       "      <td>0.000284</td>\n",
       "      <td>1</td>\n",
       "      <td>Biomarker</td>\n",
       "      <td>BeFree</td>\n",
       "    </tr>\n",
       "    <tr>\n",
       "      <th>4</th>\n",
       "      <td>4524</td>\n",
       "      <td>MTHFR</td>\n",
       "      <td>methylenetetrahydrofolate reductase (NAD(P)H)</td>\n",
       "      <td>umls:C0751711</td>\n",
       "      <td>Anterior ischemic optic neuropathy</td>\n",
       "      <td>0.000284</td>\n",
       "      <td>1</td>\n",
       "      <td>Biomarker</td>\n",
       "      <td>BeFree</td>\n",
       "    </tr>\n",
       "    <tr>\n",
       "      <th>5</th>\n",
       "      <td>161882</td>\n",
       "      <td>ZFPM1</td>\n",
       "      <td>zinc finger protein, FOG family member 1</td>\n",
       "      <td>umls:C1845837</td>\n",
       "      <td>Dyserythropoietic Anemia with Thrombocytopenia</td>\n",
       "      <td>0.000284</td>\n",
       "      <td>1</td>\n",
       "      <td>GeneticVariation</td>\n",
       "      <td>BeFree</td>\n",
       "    </tr>\n",
       "  </tbody>\n",
       "</table>\n",
       "</div>"
      ],
      "text/plain": [
       "   geneId geneSymbol                                           geneName  \\\n",
       "0     540      ATP7B        ATPase, Cu++ transporting, beta polypeptide   \n",
       "1    4160       MC4R                            melanocortin 4 receptor   \n",
       "2    3667       IRS1                       insulin receptor substrate 1   \n",
       "3    3690      ITGB3  integrin, beta 3 (platelet glycoprotein IIIa, ...   \n",
       "4    4524      MTHFR      methylenetetrahydrofolate reductase (NAD(P)H)   \n",
       "5  161882      ZFPM1           zinc finger protein, FOG family member 1   \n",
       "\n",
       "       diseaseId                                     diseaseName     score  \\\n",
       "0  umls:C0019202                   Hepatolenticular Degeneration  0.972607   \n",
       "1  umls:C0028754                                         Obesity  0.940000   \n",
       "2  umls:C0011860                       Diabetes Mellitus, Type 2  0.907216   \n",
       "3  umls:C0751711              Anterior ischemic optic neuropathy  0.000284   \n",
       "4  umls:C0751711              Anterior ischemic optic neuropathy  0.000284   \n",
       "5  umls:C1845837  Dyserythropoietic Anemia with Thrombocytopenia  0.000284   \n",
       "\n",
       "   NumberOfPubmeds                                 associationType  \\\n",
       "0              200  AlteredExpression, Biomarker, GeneticVariation   \n",
       "1              264                     Biomarker, GeneticVariation   \n",
       "2              112                     Biomarker, GeneticVariation   \n",
       "3                1                                       Biomarker   \n",
       "4                1                                       Biomarker   \n",
       "5                1                                GeneticVariation   \n",
       "\n",
       "                                              source  \n",
       "0  BeFree, CLINVAR, CTD_human, GAD, LHGDN, MGD, R...  \n",
       "1  BeFree, CLINVAR, CTD_human, GAD, MGD, RGD, UNI...  \n",
       "2  BeFree, CLINVAR, CTD_human, GAD, MGD, RGD, UNI...  \n",
       "3                                             BeFree  \n",
       "4                                             BeFree  \n",
       "5                                             BeFree  "
      ]
     },
     "execution_count": 3,
     "metadata": {},
     "output_type": "execute_result"
    }
   ],
   "source": [
    "# Inspect first and last 3 entries\n",
    "dfview = pd.concat((df[:3],df[-3:]),axis=0,ignore_index=True)\n",
    "dfview"
   ]
  },
  {
   "cell_type": "code",
   "execution_count": 4,
   "metadata": {
    "collapsed": false,
    "scrolled": false
   },
   "outputs": [
    {
     "data": {
      "image/png": "[encoded data removed]",
      "text/plain": [
       "<matplotlib.figure.Figure at 0x110367128>"
      ]
     },
     "metadata": {},
     "output_type": "display_data"
    }
   ],
   "source": [
    "# Visualize distribution of scores among the gene-disease associations listed\n",
    "\n",
    "bins = np.arange(0,1.01,0.01)\n",
    "color = 'CornflowerBlue'\n",
    "\n",
    "\n",
    "plt.rc('font', size='18')\n",
    "# plt.ioff()\n",
    "\n",
    "fig, ax = plt.subplots(1, figsize=(10,8))\n",
    "ax.set_xlabel('Weighted score')\n",
    "ax.set_ylabel('Number of associations (log scale)')\n",
    "ax.set_yscale(\"log\", nonposy='clip')\n",
    "_,_,_ = plt.hist(df['score'], bins=bins, color=color)\n",
    "\n",
    "plt.show()"
   ]
  },
  {
   "cell_type": "markdown",
   "metadata": {},
   "source": [
    "### Notes\n",
    "\n",
    "The data is heavily skewed toward the lower scores with median well below the mean and the majority of values below the midpoint of the score range.\n",
    "\n",
    "Thus the population of scores near the top of the range is low, indicating a very small percentage of scores suggest a strong gene-disease link."
   ]
  },
  {
   "cell_type": "code",
   "execution_count": 5,
   "metadata": {
    "collapsed": false
   },
   "outputs": [
    {
     "name": "stdout",
     "output_type": "stream",
     "text": [
      "Mean score: 0.01932\n",
      "Median score: 0.00057\n",
      "Percentage of data above score range midpoint (0.5): 0.45%\n"
     ]
    }
   ],
   "source": [
    "# Mean and median score of all disease\n",
    "\n",
    "print('Mean score:', '{:.5f}'.format(df['score'].mean()))\n",
    "print('Median score:', '{:.5f}'.format(df['score'].median()))\n",
    "\n",
    "sermid = df['score']>0.5   # return boolean series so sum to get count of True values\n",
    "print('Percentage of data above score range midpoint (0.5):', '{:.2%}'.format(sermid.sum()/df['score'].count()))"
   ]
  },
  {
   "cell_type": "markdown",
   "metadata": {},
   "source": [
    "### Refine data\n",
    "\n",
    "Express data in terms of number of genes per disease and score for each association.\n",
    "\n",
    "Diseases with higher scores and fewer genes are ideal."
   ]
  },
  {
   "cell_type": "code",
   "execution_count": 6,
   "metadata": {
    "collapsed": false,
    "scrolled": false
   },
   "outputs": [
    {
     "name": "stdout",
     "output_type": "stream",
     "text": [
      "Number of total diseases in database: 14586\n"
     ]
    },
    {
     "data": {
      "text/html": [
       "<div>\n",
       "<table border=\"1\" class=\"dataframe\">\n",
       "  <thead>\n",
       "    <tr style=\"text-align: right;\">\n",
       "      <th></th>\n",
       "      <th>diseaseName</th>\n",
       "      <th>Number of genes</th>\n",
       "    </tr>\n",
       "  </thead>\n",
       "  <tbody>\n",
       "    <tr>\n",
       "      <th>0</th>\n",
       "      <td>NEOPLASM, MALIGNANT</td>\n",
       "      <td>5689</td>\n",
       "    </tr>\n",
       "    <tr>\n",
       "      <th>1</th>\n",
       "      <td>Primary malignant neoplasm</td>\n",
       "      <td>5095</td>\n",
       "    </tr>\n",
       "    <tr>\n",
       "      <th>2</th>\n",
       "      <td>Malignant neoplasm breast</td>\n",
       "      <td>4219</td>\n",
       "    </tr>\n",
       "    <tr>\n",
       "      <th>3</th>\n",
       "      <td>Breast Carcinoma</td>\n",
       "      <td>3983</td>\n",
       "    </tr>\n",
       "    <tr>\n",
       "      <th>4</th>\n",
       "      <td>Carcinogenesis</td>\n",
       "      <td>3398</td>\n",
       "    </tr>\n",
       "  </tbody>\n",
       "</table>\n",
       "</div>"
      ],
      "text/plain": [
       "                  diseaseName  Number of genes\n",
       "0         NEOPLASM, MALIGNANT             5689\n",
       "1  Primary malignant neoplasm             5095\n",
       "2   Malignant neoplasm breast             4219\n",
       "3            Breast Carcinoma             3983\n",
       "4              Carcinogenesis             3398"
      ]
     },
     "execution_count": 6,
     "metadata": {},
     "output_type": "execute_result"
    }
   ],
   "source": [
    "# Number of genes per disease\n",
    "dfdis = df[['diseaseName','geneSymbol']].groupby(['diseaseName'], sort=False).count()\n",
    "dfdis.columns = ['Number of genes']\n",
    "dfdis.sort_values('Number of genes', ascending=False, inplace=True)\n",
    "\n",
    "print('Number of total diseases in database:', dfdis.shape[0])\n",
    "\n",
    "# Move diseaseName to column and reset index to integers\n",
    "dfdis.reset_index(level=0, inplace=True)\n",
    "dfdis.head()"
   ]
  },
  {
   "cell_type": "code",
   "execution_count": 7,
   "metadata": {
    "collapsed": false
   },
   "outputs": [
    {
     "name": "stdout",
     "output_type": "stream",
     "text": [
      "(429111, 4)\n"
     ]
    },
    {
     "data": {
      "text/html": [
       "<div>\n",
       "<table border=\"1\" class=\"dataframe\">\n",
       "  <thead>\n",
       "    <tr style=\"text-align: right;\">\n",
       "      <th></th>\n",
       "      <th>diseaseName</th>\n",
       "      <th>score</th>\n",
       "      <th>geneSymbol</th>\n",
       "      <th>geneName</th>\n",
       "    </tr>\n",
       "  </thead>\n",
       "  <tbody>\n",
       "    <tr>\n",
       "      <th>0</th>\n",
       "      <td>Hepatolenticular Degeneration</td>\n",
       "      <td>0.972607</td>\n",
       "      <td>ATP7B</td>\n",
       "      <td>ATPase, Cu++ transporting, beta polypeptide</td>\n",
       "    </tr>\n",
       "    <tr>\n",
       "      <th>1</th>\n",
       "      <td>Obesity</td>\n",
       "      <td>0.940000</td>\n",
       "      <td>MC4R</td>\n",
       "      <td>melanocortin 4 receptor</td>\n",
       "    </tr>\n",
       "    <tr>\n",
       "      <th>2</th>\n",
       "      <td>Diabetes Mellitus, Type 2</td>\n",
       "      <td>0.907216</td>\n",
       "      <td>IRS1</td>\n",
       "      <td>insulin receptor substrate 1</td>\n",
       "    </tr>\n",
       "    <tr>\n",
       "      <th>3</th>\n",
       "      <td>Rett Syndrome</td>\n",
       "      <td>0.900000</td>\n",
       "      <td>MECP2</td>\n",
       "      <td>methyl CpG binding protein 2</td>\n",
       "    </tr>\n",
       "    <tr>\n",
       "      <th>4</th>\n",
       "      <td>Cystic Fibrosis</td>\n",
       "      <td>0.900000</td>\n",
       "      <td>CFTR</td>\n",
       "      <td>cystic fibrosis transmembrane conductance regu...</td>\n",
       "    </tr>\n",
       "  </tbody>\n",
       "</table>\n",
       "</div>"
      ],
      "text/plain": [
       "                     diseaseName     score geneSymbol  \\\n",
       "0  Hepatolenticular Degeneration  0.972607      ATP7B   \n",
       "1                        Obesity  0.940000       MC4R   \n",
       "2      Diabetes Mellitus, Type 2  0.907216       IRS1   \n",
       "3                  Rett Syndrome  0.900000      MECP2   \n",
       "4                Cystic Fibrosis  0.900000       CFTR   \n",
       "\n",
       "                                            geneName  \n",
       "0        ATPase, Cu++ transporting, beta polypeptide  \n",
       "1                            melanocortin 4 receptor  \n",
       "2                       insulin receptor substrate 1  \n",
       "3                       methyl CpG binding protein 2  \n",
       "4  cystic fibrosis transmembrane conductance regu...  "
      ]
     },
     "execution_count": 7,
     "metadata": {},
     "output_type": "execute_result"
    }
   ],
   "source": [
    "# Select desired data from dataframe to be combined with new data giving number of genes per disease\n",
    "# Also drop duplicates\n",
    "# dfscore = df[['diseaseName','score','geneName']].drop_duplicates('diseaseName').set_index('diseaseName')\n",
    "\n",
    "dfscore = df[['diseaseName','score','geneSymbol','geneName']]\n",
    "\n",
    "print(dfscore.shape)\n",
    "dfscore.head()"
   ]
  },
  {
   "cell_type": "code",
   "execution_count": 8,
   "metadata": {
    "collapsed": false
   },
   "outputs": [
    {
     "name": "stdout",
     "output_type": "stream",
     "text": [
      "(429111, 5)\n"
     ]
    },
    {
     "data": {
      "text/html": [
       "<div>\n",
       "<table border=\"1\" class=\"dataframe\">\n",
       "  <thead>\n",
       "    <tr style=\"text-align: right;\">\n",
       "      <th></th>\n",
       "      <th>diseaseName</th>\n",
       "      <th>Number of genes</th>\n",
       "      <th>score</th>\n",
       "      <th>geneSymbol</th>\n",
       "      <th>geneName</th>\n",
       "    </tr>\n",
       "  </thead>\n",
       "  <tbody>\n",
       "    <tr>\n",
       "      <th>354418</th>\n",
       "      <td>Hepatolenticular Degeneration</td>\n",
       "      <td>42</td>\n",
       "      <td>0.972607</td>\n",
       "      <td>ATP7B</td>\n",
       "      <td>ATPase, Cu++ transporting, beta polypeptide</td>\n",
       "    </tr>\n",
       "    <tr>\n",
       "      <th>83966</th>\n",
       "      <td>Obesity</td>\n",
       "      <td>1693</td>\n",
       "      <td>0.940000</td>\n",
       "      <td>MC4R</td>\n",
       "      <td>melanocortin 4 receptor</td>\n",
       "    </tr>\n",
       "    <tr>\n",
       "      <th>80552</th>\n",
       "      <td>Diabetes Mellitus, Type 2</td>\n",
       "      <td>1716</td>\n",
       "      <td>0.907216</td>\n",
       "      <td>IRS1</td>\n",
       "      <td>insulin receptor substrate 1</td>\n",
       "    </tr>\n",
       "    <tr>\n",
       "      <th>202230</th>\n",
       "      <td>Cystic Fibrosis</td>\n",
       "      <td>401</td>\n",
       "      <td>0.900000</td>\n",
       "      <td>CFTR</td>\n",
       "      <td>cystic fibrosis transmembrane conductance regu...</td>\n",
       "    </tr>\n",
       "    <tr>\n",
       "      <th>294484</th>\n",
       "      <td>Rett Syndrome</td>\n",
       "      <td>119</td>\n",
       "      <td>0.900000</td>\n",
       "      <td>MECP2</td>\n",
       "      <td>methyl CpG binding protein 2</td>\n",
       "    </tr>\n",
       "    <tr>\n",
       "      <th>318589</th>\n",
       "      <td>Creutzfeldt-Jakob Syndrome</td>\n",
       "      <td>79</td>\n",
       "      <td>0.884361</td>\n",
       "      <td>PRNP</td>\n",
       "      <td>prion protein</td>\n",
       "    </tr>\n",
       "    <tr>\n",
       "      <th>309558</th>\n",
       "      <td>Fragile X Syndrome</td>\n",
       "      <td>93</td>\n",
       "      <td>0.880361</td>\n",
       "      <td>FMR1</td>\n",
       "      <td>fragile X mental retardation 1</td>\n",
       "    </tr>\n",
       "    <tr>\n",
       "      <th>224345</th>\n",
       "      <td>Gastrointestinal Stromal Tumors</td>\n",
       "      <td>302</td>\n",
       "      <td>0.879390</td>\n",
       "      <td>KIT</td>\n",
       "      <td>v-kit Hardy-Zuckerman 4 feline sarcoma viral o...</td>\n",
       "    </tr>\n",
       "    <tr>\n",
       "      <th>314124</th>\n",
       "      <td>Familial Mediterranean Fever</td>\n",
       "      <td>86</td>\n",
       "      <td>0.870271</td>\n",
       "      <td>MEFV</td>\n",
       "      <td>Mediterranean fever</td>\n",
       "    </tr>\n",
       "    <tr>\n",
       "      <th>351008</th>\n",
       "      <td>Brugada Syndrome</td>\n",
       "      <td>44</td>\n",
       "      <td>0.869105</td>\n",
       "      <td>SCN5A</td>\n",
       "      <td>sodium channel, voltage gated, type V alpha su...</td>\n",
       "    </tr>\n",
       "    <tr>\n",
       "      <th>296822</th>\n",
       "      <td>Muscular Dystrophy, Duchenne</td>\n",
       "      <td>115</td>\n",
       "      <td>0.865413</td>\n",
       "      <td>DMD</td>\n",
       "      <td>dystrophin</td>\n",
       "    </tr>\n",
       "    <tr>\n",
       "      <th>355655</th>\n",
       "      <td>Marfan Syndrome</td>\n",
       "      <td>41</td>\n",
       "      <td>0.858256</td>\n",
       "      <td>FBN1</td>\n",
       "      <td>fibrillin 1</td>\n",
       "    </tr>\n",
       "    <tr>\n",
       "      <th>393141</th>\n",
       "      <td>Diabetes Insipidus, Neurogenic</td>\n",
       "      <td>14</td>\n",
       "      <td>0.855108</td>\n",
       "      <td>AVP</td>\n",
       "      <td>arginine vasopressin</td>\n",
       "    </tr>\n",
       "    <tr>\n",
       "      <th>93589</th>\n",
       "      <td>Alzheimer Disease</td>\n",
       "      <td>1477</td>\n",
       "      <td>0.852707</td>\n",
       "      <td>APP</td>\n",
       "      <td>amyloid beta (A4) precursor protein</td>\n",
       "    </tr>\n",
       "    <tr>\n",
       "      <th>352973</th>\n",
       "      <td>Polycystic Kidney, Autosomal Recessive</td>\n",
       "      <td>43</td>\n",
       "      <td>0.850728</td>\n",
       "      <td>PKHD1</td>\n",
       "      <td>polycystic kidney and hepatic disease 1 (autos...</td>\n",
       "    </tr>\n",
       "    <tr>\n",
       "      <th>340632</th>\n",
       "      <td>Noonan Syndrome</td>\n",
       "      <td>54</td>\n",
       "      <td>0.849717</td>\n",
       "      <td>PTPN11</td>\n",
       "      <td>protein tyrosine phosphatase, non-receptor typ...</td>\n",
       "    </tr>\n",
       "    <tr>\n",
       "      <th>256671</th>\n",
       "      <td>Ataxia Telangiectasia</td>\n",
       "      <td>197</td>\n",
       "      <td>0.844354</td>\n",
       "      <td>ATM</td>\n",
       "      <td>ATM serine/threonine kinase</td>\n",
       "    </tr>\n",
       "    <tr>\n",
       "      <th>321388</th>\n",
       "      <td>Multiple Endocrine Neoplasia Type 1</td>\n",
       "      <td>76</td>\n",
       "      <td>0.843737</td>\n",
       "      <td>MEN1</td>\n",
       "      <td>multiple endocrine neoplasia I</td>\n",
       "    </tr>\n",
       "    <tr>\n",
       "      <th>416456</th>\n",
       "      <td>Canavan Disease</td>\n",
       "      <td>4</td>\n",
       "      <td>0.839553</td>\n",
       "      <td>ASPA</td>\n",
       "      <td>aspartoacylase</td>\n",
       "    </tr>\n",
       "    <tr>\n",
       "      <th>401957</th>\n",
       "      <td>Ornithine Carbamoyltransferase Deficiency Disease</td>\n",
       "      <td>9</td>\n",
       "      <td>0.838731</td>\n",
       "      <td>OTC</td>\n",
       "      <td>ornithine carbamoyltransferase</td>\n",
       "    </tr>\n",
       "  </tbody>\n",
       "</table>\n",
       "</div>"
      ],
      "text/plain": [
       "                                              diseaseName  Number of genes  \\\n",
       "354418                      Hepatolenticular Degeneration               42   \n",
       "83966                                             Obesity             1693   \n",
       "80552                           Diabetes Mellitus, Type 2             1716   \n",
       "202230                                    Cystic Fibrosis              401   \n",
       "294484                                      Rett Syndrome              119   \n",
       "318589                         Creutzfeldt-Jakob Syndrome               79   \n",
       "309558                                 Fragile X Syndrome               93   \n",
       "224345                    Gastrointestinal Stromal Tumors              302   \n",
       "314124                       Familial Mediterranean Fever               86   \n",
       "351008                                   Brugada Syndrome               44   \n",
       "296822                       Muscular Dystrophy, Duchenne              115   \n",
       "355655                                    Marfan Syndrome               41   \n",
       "393141                     Diabetes Insipidus, Neurogenic               14   \n",
       "93589                                   Alzheimer Disease             1477   \n",
       "352973             Polycystic Kidney, Autosomal Recessive               43   \n",
       "340632                                    Noonan Syndrome               54   \n",
       "256671                              Ataxia Telangiectasia              197   \n",
       "321388                Multiple Endocrine Neoplasia Type 1               76   \n",
       "416456                                    Canavan Disease                4   \n",
       "401957  Ornithine Carbamoyltransferase Deficiency Disease                9   \n",
       "\n",
       "           score geneSymbol                                           geneName  \n",
       "354418  0.972607      ATP7B        ATPase, Cu++ transporting, beta polypeptide  \n",
       "83966   0.940000       MC4R                            melanocortin 4 receptor  \n",
       "80552   0.907216       IRS1                       insulin receptor substrate 1  \n",
       "202230  0.900000       CFTR  cystic fibrosis transmembrane conductance regu...  \n",
       "294484  0.900000      MECP2                       methyl CpG binding protein 2  \n",
       "318589  0.884361       PRNP                                      prion protein  \n",
       "309558  0.880361       FMR1                     fragile X mental retardation 1  \n",
       "224345  0.879390        KIT  v-kit Hardy-Zuckerman 4 feline sarcoma viral o...  \n",
       "314124  0.870271       MEFV                                Mediterranean fever  \n",
       "351008  0.869105      SCN5A  sodium channel, voltage gated, type V alpha su...  \n",
       "296822  0.865413        DMD                                         dystrophin  \n",
       "355655  0.858256       FBN1                                        fibrillin 1  \n",
       "393141  0.855108        AVP                               arginine vasopressin  \n",
       "93589   0.852707        APP                amyloid beta (A4) precursor protein  \n",
       "352973  0.850728      PKHD1  polycystic kidney and hepatic disease 1 (autos...  \n",
       "340632  0.849717     PTPN11  protein tyrosine phosphatase, non-receptor typ...  \n",
       "256671  0.844354        ATM                        ATM serine/threonine kinase  \n",
       "321388  0.843737       MEN1                     multiple endocrine neoplasia I  \n",
       "416456  0.839553       ASPA                                     aspartoacylase  \n",
       "401957  0.838731        OTC                     ornithine carbamoyltransferase  "
      ]
     },
     "execution_count": 8,
     "metadata": {},
     "output_type": "execute_result"
    }
   ],
   "source": [
    "# Merge two previous dataframes preserving all duplicate disease names\n",
    "dfscoredis = pd.merge(dfdis,dfscore,how='outer')\n",
    "dfscoredis.sort_values('score',ascending=False, inplace=True)\n",
    "\n",
    "print(dfscoredis.shape)\n",
    "dfscoredis.head(20)"
   ]
  },
  {
   "cell_type": "markdown",
   "metadata": {},
   "source": [
    "## Quality criteria\n",
    "At this stage, the dataframe contains gene-disease associations with multiple, duplicate diseaseName entries.\n",
    "\n",
    "Next gene disease associations meeting a certain quality threshold will be retained. Specifically, if the gene-disease link has a score above 0.7 and each disease has fewer than 5 linked genes, the association will be retained."
   ]
  },
  {
   "cell_type": "code",
   "execution_count": 9,
   "metadata": {
    "collapsed": false,
    "scrolled": false
   },
   "outputs": [
    {
     "name": "stdout",
     "output_type": "stream",
     "text": [
      "Diseases remaining: 277\n"
     ]
    },
    {
     "data": {
      "text/html": [
       "<div>\n",
       "<table border=\"1\" class=\"dataframe\">\n",
       "  <thead>\n",
       "    <tr style=\"text-align: right;\">\n",
       "      <th></th>\n",
       "      <th>diseaseName</th>\n",
       "      <th>Number of genes</th>\n",
       "      <th>score</th>\n",
       "      <th>geneSymbol</th>\n",
       "      <th>geneName</th>\n",
       "    </tr>\n",
       "  </thead>\n",
       "  <tbody>\n",
       "    <tr>\n",
       "      <th>416456</th>\n",
       "      <td>Canavan Disease</td>\n",
       "      <td>4</td>\n",
       "      <td>0.839553</td>\n",
       "      <td>ASPA</td>\n",
       "      <td>aspartoacylase</td>\n",
       "    </tr>\n",
       "    <tr>\n",
       "      <th>419974</th>\n",
       "      <td>Cleidocranial Dysplasia</td>\n",
       "      <td>3</td>\n",
       "      <td>0.763477</td>\n",
       "      <td>RUNX2</td>\n",
       "      <td>runt-related transcription factor 2</td>\n",
       "    </tr>\n",
       "    <tr>\n",
       "      <th>416424</th>\n",
       "      <td>Glycogen Storage Disease Type IIb</td>\n",
       "      <td>4</td>\n",
       "      <td>0.741969</td>\n",
       "      <td>LAMP2</td>\n",
       "      <td>lysosomal-associated membrane protein 2</td>\n",
       "    </tr>\n",
       "    <tr>\n",
       "      <th>416460</th>\n",
       "      <td>Primary hyperoxaluria type 1</td>\n",
       "      <td>4</td>\n",
       "      <td>0.738144</td>\n",
       "      <td>AGXT</td>\n",
       "      <td>alanine-glyoxylate aminotransferase</td>\n",
       "    </tr>\n",
       "    <tr>\n",
       "      <th>416512</th>\n",
       "      <td>Mucopolysaccharidosis VII</td>\n",
       "      <td>4</td>\n",
       "      <td>0.734742</td>\n",
       "      <td>GUSB</td>\n",
       "      <td>glucuronidase, beta</td>\n",
       "    </tr>\n",
       "    <tr>\n",
       "      <th>416304</th>\n",
       "      <td>Biotinidase Deficiency</td>\n",
       "      <td>4</td>\n",
       "      <td>0.733854</td>\n",
       "      <td>BTD</td>\n",
       "      <td>biotinidase</td>\n",
       "    </tr>\n",
       "    <tr>\n",
       "      <th>425527</th>\n",
       "      <td>Alkaptonuria</td>\n",
       "      <td>1</td>\n",
       "      <td>0.733834</td>\n",
       "      <td>HGD</td>\n",
       "      <td>homogentisate 1,2-dioxygenase</td>\n",
       "    </tr>\n",
       "    <tr>\n",
       "      <th>420415</th>\n",
       "      <td>Oculocutaneous albinism type 1</td>\n",
       "      <td>3</td>\n",
       "      <td>0.733325</td>\n",
       "      <td>TYR</td>\n",
       "      <td>tyrosinase</td>\n",
       "    </tr>\n",
       "    <tr>\n",
       "      <th>420755</th>\n",
       "      <td>Focal Dermal Hypoplasia</td>\n",
       "      <td>2</td>\n",
       "      <td>0.732671</td>\n",
       "      <td>PORCN</td>\n",
       "      <td>porcupine homolog (Drosophila)</td>\n",
       "    </tr>\n",
       "    <tr>\n",
       "      <th>418876</th>\n",
       "      <td>Congenital contractural arachnodactyly</td>\n",
       "      <td>3</td>\n",
       "      <td>0.730539</td>\n",
       "      <td>FBN2</td>\n",
       "      <td>fibrillin 2</td>\n",
       "    </tr>\n",
       "  </tbody>\n",
       "</table>\n",
       "</div>"
      ],
      "text/plain": [
       "                                   diseaseName  Number of genes     score  \\\n",
       "416456                         Canavan Disease                4  0.839553   \n",
       "419974                 Cleidocranial Dysplasia                3  0.763477   \n",
       "416424       Glycogen Storage Disease Type IIb                4  0.741969   \n",
       "416460            Primary hyperoxaluria type 1                4  0.738144   \n",
       "416512               Mucopolysaccharidosis VII                4  0.734742   \n",
       "416304                  Biotinidase Deficiency                4  0.733854   \n",
       "425527                            Alkaptonuria                1  0.733834   \n",
       "420415          Oculocutaneous albinism type 1                3  0.733325   \n",
       "420755                 Focal Dermal Hypoplasia                2  0.732671   \n",
       "418876  Congenital contractural arachnodactyly                3  0.730539   \n",
       "\n",
       "       geneSymbol                                 geneName  \n",
       "416456       ASPA                           aspartoacylase  \n",
       "419974      RUNX2      runt-related transcription factor 2  \n",
       "416424      LAMP2  lysosomal-associated membrane protein 2  \n",
       "416460       AGXT      alanine-glyoxylate aminotransferase  \n",
       "416512       GUSB                      glucuronidase, beta  \n",
       "416304        BTD                              biotinidase  \n",
       "425527        HGD            homogentisate 1,2-dioxygenase  \n",
       "420415        TYR                               tyrosinase  \n",
       "420755      PORCN           porcupine homolog (Drosophila)  \n",
       "418876       FBN2                              fibrillin 2  "
      ]
     },
     "execution_count": 9,
     "metadata": {},
     "output_type": "execute_result"
    }
   ],
   "source": [
    "# Select higher quality data by removing lower scores and high number of genes\n",
    "dfthresh = dfscoredis.copy()\n",
    "dfthresh = dfthresh[(dfthresh['Number of genes']<5) & (dfthresh['score']>0.7)]\n",
    "print('Diseases remaining:', dfthresh.shape[0])\n",
    "dfthresh.head(10)"
   ]
  },
  {
   "cell_type": "markdown",
   "metadata": {},
   "source": [
    "Before further analysis of each disease, a dataframe will be created where diseases with multiple genes will be reduced to a single entry (row)."
   ]
  },
  {
   "cell_type": "code",
   "execution_count": 53,
   "metadata": {
    "collapsed": false
   },
   "outputs": [
    {
     "name": "stdout",
     "output_type": "stream",
     "text": [
      "Removed: Sitosterolemia\n",
      "Total found: 2\n",
      "Removed: Myasthenic syndrome, congenital, type Id\n",
      "Total found: 2\n",
      "\n",
      "Total unique diseases: 275\n"
     ]
    }
   ],
   "source": [
    "# Generate copy and keep first duplicate\n",
    "dfunique = dfthresh['diseaseName'].copy(deep=False)\n",
    "# dfunique.sort_values('score', ascending=False, inplace=True)\n",
    "dfunique.drop_duplicates(keep='first', inplace=True)\n",
    "\n",
    "# Check values removed\n",
    "# print('Entries removed:',dfthresh.shape[0]-dfunique.shape[0])\n",
    "dfrem = dfthresh.drop(dfunique.index)\n",
    "for i in range(dfrem.shape[0]):\n",
    "    currow = dfrem.diseaseName.iloc[i]\n",
    "    print('Removed:', currow)\n",
    "    print('Total found:', dfthresh.diseaseName[dfthresh['diseaseName']==currow].count())\n",
    "print('')\n",
    "print('Total unique diseases:', dfunique.shape[0])"
   ]
  },
  {
   "cell_type": "markdown",
   "metadata": {},
   "source": [
    "## Incidence rates\n",
    "There are now 275 unique diseases that meet the threshold of fewer than 5 linked genes and a gene-disease score greater than 0.7.\n",
    "\n",
    "The incidence rates for each disease may be scraped from a public NIH database using beautiful soup. \n",
    "\n",
    "Because diseases often have multiple names (e.g., \"Glycogen Storage Disease Type IIb\" is also known as \"Danon disease\") this method is not foolproof. It is possible (but time consuming) to manually construct a dictionary or dataframe of aliases for each disease in the gene-disease association dataframe. An example is given below."
   ]
  },
  {
   "cell_type": "code",
   "execution_count": 74,
   "metadata": {
    "collapsed": false,
    "scrolled": true
   },
   "outputs": [],
   "source": [
    "# Dictionary with known disease aliases\n",
    "alias = {}\n",
    "alias['Glycogen Storage Disease Type IIb'] = 'Danon disease'\n",
    "alias['Primary hyperoxaluria type 1'] = 'primary hyperoxaluria'\n",
    "\n",
    "# Create list of disease names\n",
    "# dfthresh.sort_values('score', ascending=False, inplace=True)\n",
    "idx = dfunique.tolist()\n",
    "# print(idx)\n",
    "\n",
    "# Create list of urls\n",
    "dburl = 'http://ghr.nlm.nih.gov/'\n",
    "urls = [dburl+'condition/'+str.lower(s.replace(' ','-')) for s in idx]\n",
    "# print(len(urls))\n",
    "\n",
    "# Define function for retrieving incidence rate from page\n",
    "def soupify(url):\n",
    "    # Request content from web page\n",
    "    result = requests.get(url)\n",
    "    c = result.content\n",
    "\n",
    "    # Set as Beautiful Soup Object\n",
    "    soup = BeautifulSoup(c, \"lxml\")\n",
    "    res = soup.find_all(\"div\",{'class':'freepp'})\n",
    "    return res\n",
    "\n",
    "incid = []\n",
    "count = 0\n",
    "checked = []   # For troubleshooting purposes\n",
    "for url in urls:\n",
    "    \n",
    "    res = soupify(url)\n",
    "\n",
    "    # If disease is not found and alias is known format appropriate idx (disease name) as url\n",
    "    if len(res) == 0:\n",
    "        if idx[count] in alias:\n",
    "            url = dburl+'condition/'+str.lower(alias[idx[count]].replace(' ','-'))\n",
    "            res = soupify(url)\n",
    "            if len(res) == 0:\n",
    "                res = [None, 'Not found. May be known by a different name.']\n",
    "        else:\n",
    "            res = [None, 'Not found. May be known by a different name.']\n",
    "\n",
    "    # Parse returned markup to find disease incidence information\n",
    "    holder = BeautifulSoup(str(res[1]),\"lxml\").get_text()\n",
    "    incid.append(holder.replace('\\n',''))\n",
    "    count += 1\n",
    "    checked.append(url)"
   ]
  },
  {
   "cell_type": "code",
   "execution_count": 87,
   "metadata": {
    "collapsed": false,
    "scrolled": true
   },
   "outputs": [
    {
     "name": "stdout",
     "output_type": "stream",
     "text": [
      "dfincid.shape (277, 6)\n"
     ]
    },
    {
     "data": {
      "text/html": [
       "<div>\n",
       "<table border=\"1\" class=\"dataframe\">\n",
       "  <thead>\n",
       "    <tr style=\"text-align: right;\">\n",
       "      <th></th>\n",
       "      <th>diseaseName</th>\n",
       "      <th>Number of genes</th>\n",
       "      <th>score</th>\n",
       "      <th>geneSymbol</th>\n",
       "      <th>geneName</th>\n",
       "      <th>Incidence</th>\n",
       "    </tr>\n",
       "  </thead>\n",
       "  <tbody>\n",
       "    <tr>\n",
       "      <th>0</th>\n",
       "      <td>Canavan Disease</td>\n",
       "      <td>4</td>\n",
       "      <td>0.839553</td>\n",
       "      <td>ASPA</td>\n",
       "      <td>aspartoacylase</td>\n",
       "      <td>While this condition occurs in people of all e...</td>\n",
       "    </tr>\n",
       "    <tr>\n",
       "      <th>1</th>\n",
       "      <td>Cleidocranial Dysplasia</td>\n",
       "      <td>3</td>\n",
       "      <td>0.763477</td>\n",
       "      <td>RUNX2</td>\n",
       "      <td>runt-related transcription factor 2</td>\n",
       "      <td>Cleidocranial dysplasia occurs in approximatel...</td>\n",
       "    </tr>\n",
       "    <tr>\n",
       "      <th>2</th>\n",
       "      <td>Glycogen Storage Disease Type IIb</td>\n",
       "      <td>4</td>\n",
       "      <td>0.741969</td>\n",
       "      <td>LAMP2</td>\n",
       "      <td>lysosomal-associated membrane protein 2</td>\n",
       "      <td>Danon disease is a rare condition, but the exa...</td>\n",
       "    </tr>\n",
       "    <tr>\n",
       "      <th>3</th>\n",
       "      <td>Primary hyperoxaluria type 1</td>\n",
       "      <td>4</td>\n",
       "      <td>0.738144</td>\n",
       "      <td>AGXT</td>\n",
       "      <td>alanine-glyoxylate aminotransferase</td>\n",
       "      <td>Type 1 primary hyperoxaluria is estimated to o...</td>\n",
       "    </tr>\n",
       "    <tr>\n",
       "      <th>4</th>\n",
       "      <td>Mucopolysaccharidosis VII</td>\n",
       "      <td>4</td>\n",
       "      <td>0.734742</td>\n",
       "      <td>GUSB</td>\n",
       "      <td>glucuronidase, beta</td>\n",
       "      <td>Not found. May be known by a different name.</td>\n",
       "    </tr>\n",
       "  </tbody>\n",
       "</table>\n",
       "</div>"
      ],
      "text/plain": [
       "                         diseaseName  Number of genes     score geneSymbol  \\\n",
       "0                    Canavan Disease                4  0.839553       ASPA   \n",
       "1            Cleidocranial Dysplasia                3  0.763477      RUNX2   \n",
       "2  Glycogen Storage Disease Type IIb                4  0.741969      LAMP2   \n",
       "3       Primary hyperoxaluria type 1                4  0.738144       AGXT   \n",
       "4          Mucopolysaccharidosis VII                4  0.734742       GUSB   \n",
       "\n",
       "                                  geneName  \\\n",
       "0                           aspartoacylase   \n",
       "1      runt-related transcription factor 2   \n",
       "2  lysosomal-associated membrane protein 2   \n",
       "3      alanine-glyoxylate aminotransferase   \n",
       "4                      glucuronidase, beta   \n",
       "\n",
       "                                           Incidence  \n",
       "0  While this condition occurs in people of all e...  \n",
       "1  Cleidocranial dysplasia occurs in approximatel...  \n",
       "2  Danon disease is a rare condition, but the exa...  \n",
       "3  Type 1 primary hyperoxaluria is estimated to o...  \n",
       "4       Not found. May be known by a different name.  "
      ]
     },
     "execution_count": 87,
     "metadata": {},
     "output_type": "execute_result"
    }
   ],
   "source": [
    "inciddata = np.column_stack((np.array(idx),np.array(incid)))\n",
    "# inciddata[0,:]\n",
    "\n",
    "dfjustincid = pd.DataFrame(inciddata, columns=['diseaseName', 'Incidence'])\n",
    "dfincid = pd.merge(dfthresh, dfjustincid, on='diseaseName', how='outer')\n",
    "print('dfincid.shape',dfincid.shape)\n",
    "dfincid.head()"
   ]
  },
  {
   "cell_type": "markdown",
   "metadata": {},
   "source": [
    "## Disease classification"
   ]
  },
  {
   "cell_type": "code",
   "execution_count": 88,
   "metadata": {
    "collapsed": false
   },
   "outputs": [],
   "source": [
    "# Classify diseases identified in the NIH database based on NIH categories\n",
    "\n",
    "# Retrieve webpage with category listing\n",
    "caturl = 'http://ghr.nlm.nih.gov/BrowseConditions'\n",
    "\n",
    "result = requests.get(caturl)\n",
    "c = result.content\n",
    "\n",
    "# Set as Beautiful Soup Object\n",
    "soup = BeautifulSoup(c, \"lxml\")\n",
    "res = soup.find_all(href=re.compile('conditionCategory'))"
   ]
  },
  {
   "cell_type": "code",
   "execution_count": 89,
   "metadata": {
    "collapsed": false,
    "scrolled": true
   },
   "outputs": [
    {
     "name": "stdout",
     "output_type": "stream",
     "text": [
      "['Blood/lymphatic system', 'Bones, muscles, and connective tissues', 'Brain and nervous system', 'Cancers', 'Digestive system', 'Ear, nose, and throat', 'Endocrine system (hormones)', 'Eyes and vision', 'Food, nutrition, and metabolism', 'Heart and circulation', 'Immune system', 'Kidneys and urinary system', 'Lungs and breathing', 'Mental health and behavior', 'Mouth and teeth', 'Reproductive system', 'Skin, hair, and nails']\n"
     ]
    }
   ],
   "source": [
    "# Format category listing into urls\n",
    "\n",
    "links = []\n",
    "for a in range(len(res)):\n",
    "    links.append(str(res[a]).replace('<a href=\"/','').replace('</a>',''))\n",
    "# p = re.compile('<a href=\"/')\n",
    "p = re.compile('\">\\D+')\n",
    "# print(links[0])\n",
    "# print('')\n",
    "catlinks = [p.split(link)[0] for link in links]\n",
    "# print(catlinks)\n",
    "q = re.compile('\\D+\">')\n",
    "catnames = [q.split(link)[1] for link in links]\n",
    "print(catnames)"
   ]
  },
  {
   "cell_type": "code",
   "execution_count": 94,
   "metadata": {
    "collapsed": false,
    "scrolled": true
   },
   "outputs": [],
   "source": [
    "# Search each category page for the identified diseases\n",
    "\n",
    "dburl = 'http://ghr.nlm.nih.gov/'\n",
    "\n",
    "incididx = dfincid['Incidence'] != 'Not found. May be known by a different name.'\n",
    "founddis = dfincid['diseaseName'][incididx].drop_duplicates(keep='first')\n",
    "caturls = [dburl+link for link in catlinks]\n",
    "\n",
    "dfcat = pd.DataFrame(columns=['diseaseName','diseaseCat'])\n",
    "\n",
    "for i in range(len(caturls)):\n",
    "    fetched = requests.get(caturls[i])\n",
    "    c = fetched.content\n",
    "    soup = str.lower(str(BeautifulSoup(c, \"lxml\")))\n",
    "    for disname in founddis:\n",
    "        if str.lower(disname) in soup:\n",
    "            dfcat = dfcat.append({'diseaseName':disname,'diseaseCat':catnames[i]}, \n",
    "                                 ignore_index=True)\n",
    "        else:\n",
    "            if disname in alias and str.lower(alias[disname]) in soup:\n",
    "                dfcat = dfcat.append({'diseaseName':disname,'diseaseCat':catnames[i]}, \n",
    "                                 ignore_index=True)"
   ]
  },
  {
   "cell_type": "code",
   "execution_count": 176,
   "metadata": {
    "collapsed": false,
    "scrolled": false
   },
   "outputs": [
    {
     "name": "stdout",
     "output_type": "stream",
     "text": [
      "dfall.shape (277, 7)\n"
     ]
    },
    {
     "data": {
      "text/html": [
       "<div>\n",
       "<table border=\"1\" class=\"dataframe\">\n",
       "  <thead>\n",
       "    <tr style=\"text-align: right;\">\n",
       "      <th></th>\n",
       "      <th>diseaseName</th>\n",
       "      <th>Number of genes</th>\n",
       "      <th>score</th>\n",
       "      <th>geneSymbol</th>\n",
       "      <th>geneName</th>\n",
       "      <th>Incidence</th>\n",
       "      <th>diseaseCat</th>\n",
       "    </tr>\n",
       "  </thead>\n",
       "  <tbody>\n",
       "    <tr>\n",
       "      <th>0</th>\n",
       "      <td>Canavan Disease</td>\n",
       "      <td>4</td>\n",
       "      <td>0.839553</td>\n",
       "      <td>ASPA</td>\n",
       "      <td>aspartoacylase</td>\n",
       "      <td>While this condition occurs in people of all e...</td>\n",
       "      <td>Brain and nervous system</td>\n",
       "    </tr>\n",
       "    <tr>\n",
       "      <th>1</th>\n",
       "      <td>Cleidocranial Dysplasia</td>\n",
       "      <td>3</td>\n",
       "      <td>0.763477</td>\n",
       "      <td>RUNX2</td>\n",
       "      <td>runt-related transcription factor 2</td>\n",
       "      <td>Cleidocranial dysplasia occurs in approximatel...</td>\n",
       "      <td>Bones, muscles, and connective tissues</td>\n",
       "    </tr>\n",
       "    <tr>\n",
       "      <th>2</th>\n",
       "      <td>Glycogen Storage Disease Type IIb</td>\n",
       "      <td>4</td>\n",
       "      <td>0.741969</td>\n",
       "      <td>LAMP2</td>\n",
       "      <td>lysosomal-associated membrane protein 2</td>\n",
       "      <td>Danon disease is a rare condition, but the exa...</td>\n",
       "      <td>Bones, muscles, and connective tissues</td>\n",
       "    </tr>\n",
       "    <tr>\n",
       "      <th>3</th>\n",
       "      <td>Primary hyperoxaluria type 1</td>\n",
       "      <td>4</td>\n",
       "      <td>0.738144</td>\n",
       "      <td>AGXT</td>\n",
       "      <td>alanine-glyoxylate aminotransferase</td>\n",
       "      <td>Type 1 primary hyperoxaluria is estimated to o...</td>\n",
       "      <td>Food, nutrition, and metabolism</td>\n",
       "    </tr>\n",
       "    <tr>\n",
       "      <th>4</th>\n",
       "      <td>Mucopolysaccharidosis VII</td>\n",
       "      <td>4</td>\n",
       "      <td>0.734742</td>\n",
       "      <td>GUSB</td>\n",
       "      <td>glucuronidase, beta</td>\n",
       "      <td>Not found. May be known by a different name.</td>\n",
       "      <td>Not found</td>\n",
       "    </tr>\n",
       "  </tbody>\n",
       "</table>\n",
       "</div>"
      ],
      "text/plain": [
       "                         diseaseName  Number of genes     score geneSymbol  \\\n",
       "0                    Canavan Disease                4  0.839553       ASPA   \n",
       "1            Cleidocranial Dysplasia                3  0.763477      RUNX2   \n",
       "2  Glycogen Storage Disease Type IIb                4  0.741969      LAMP2   \n",
       "3       Primary hyperoxaluria type 1                4  0.738144       AGXT   \n",
       "4          Mucopolysaccharidosis VII                4  0.734742       GUSB   \n",
       "\n",
       "                                  geneName  \\\n",
       "0                           aspartoacylase   \n",
       "1      runt-related transcription factor 2   \n",
       "2  lysosomal-associated membrane protein 2   \n",
       "3      alanine-glyoxylate aminotransferase   \n",
       "4                      glucuronidase, beta   \n",
       "\n",
       "                                           Incidence  \\\n",
       "0  While this condition occurs in people of all e...   \n",
       "1  Cleidocranial dysplasia occurs in approximatel...   \n",
       "2  Danon disease is a rare condition, but the exa...   \n",
       "3  Type 1 primary hyperoxaluria is estimated to o...   \n",
       "4       Not found. May be known by a different name.   \n",
       "\n",
       "                               diseaseCat  \n",
       "0                Brain and nervous system  \n",
       "1  Bones, muscles, and connective tissues  \n",
       "2  Bones, muscles, and connective tissues  \n",
       "3         Food, nutrition, and metabolism  \n",
       "4                               Not found  "
      ]
     },
     "execution_count": 176,
     "metadata": {},
     "output_type": "execute_result"
    }
   ],
   "source": [
    "# If disease present in more than one category, assign to first category alphabetically\n",
    "dfcatdrop = dfcat.drop_duplicates(subset='diseaseName', keep='first')\n",
    "dfall = pd.merge(dfincid, dfcatdrop, on='diseaseName', how='outer')\n",
    "dfall.fillna('Not found', inplace=True)\n",
    "print('dfall.shape',dfall.shape)\n",
    "dfall.head()"
   ]
  },
  {
   "cell_type": "code",
   "execution_count": 177,
   "metadata": {
    "collapsed": true
   },
   "outputs": [],
   "source": [
    "# Save progress\n",
    "dfall.to_csv('dfall.csv')"
   ]
  },
  {
   "cell_type": "markdown",
   "metadata": {},
   "source": [
    "___\n",
    "## Visualize results\n",
    "\n",
    "Load in previously saved data from csv ('dfall.csv') so that above cells don't need to be rerun."
   ]
  },
  {
   "cell_type": "code",
   "execution_count": 178,
   "metadata": {
    "collapsed": false
   },
   "outputs": [],
   "source": [
    "# Generate plot data\n",
    "dfall = pd.read_csv('dfall.csv')\n",
    "yy = dfall['Number of genes']#[dfincid['Number of genes'] == 1]\n",
    "xx = dfall['score']#[dfincid['Number of genes'] == 1]"
   ]
  },
  {
   "cell_type": "code",
   "execution_count": 179,
   "metadata": {
    "collapsed": false
   },
   "outputs": [
    {
     "data": {
      "image/png": "[encoded data removed]",
      "text/plain": [
       "<matplotlib.figure.Figure at 0x1108ec2e8>"
      ]
     },
     "metadata": {},
     "output_type": "display_data"
    }
   ],
   "source": [
    "# Generate colors for graphs\n",
    "colorseq = ['#1f77b4', '#aec7e8', '#ff7f0e', '#ffbb78', '#2ca02c',\n",
    "            '#98df8a', '#d62728', '#ff9896', '#9467bd', '#c5b0d5',\n",
    "            '#8c564b', '#c49c94', '#e377c2', '#f7b6d2', '#7f7f7f',\n",
    "            '#c7c7c7', '#bcbd22', '#dbdb8d', '#17becf', '#9edae5']\n",
    "\n",
    "plt.rc('font', size='18')\n",
    "\n",
    "\n",
    "fig, ax = plt.subplots(1, figsize=(16,6))\n",
    "ax.scatter(xx,yy, c=colorseq[0], s=250, alpha=1)\n",
    "ax.yaxis.set_ticks(np.arange(0,5,1))\n",
    "ax.set_ylim(0,5)\n",
    "ax.xaxis.set_ticks(np.arange(0.7,0.9,0.05))\n",
    "ax.set_xlim(0.7, 0.85)\n",
    "ax.set_xlabel('Score')\n",
    "ax.set_ylabel('Number of genes')\n",
    "# ax.xaxis.set_major_formatter(ticker.FormatStrFormatter('%0.1f'))\n",
    "\n",
    "plt.grid(True)\n",
    "\n",
    "plt.show()"
   ]
  },
  {
   "cell_type": "code",
   "execution_count": 181,
   "metadata": {
    "collapsed": false
   },
   "outputs": [
    {
     "name": "stdout",
     "output_type": "stream",
     "text": [
      "{'Bones, muscles, and connective tissues': '#aec7e8', 'Blood/lymphatic system': '#d62728', 'Immune system': '#98df8a', 'Brain and nervous system': '#1f77b4', 'Skin, hair, and nails': '#2ca02c', 'Food, nutrition, and metabolism': '#ff7f0e', 'Not found': '#dddddd'}\n"
     ]
    },
    {
     "data": {
      "image/png": "[encoded data removed]",
      "text/plain": [
       "<matplotlib.figure.Figure at 0x1108e5160>"
      ]
     },
     "metadata": {},
     "output_type": "display_data"
    }
   ],
   "source": [
    "# Zoom in on clustered regions, larger points have identified disease\n",
    "# Also color code data points based on disease category\n",
    "\n",
    "ptsize = 250\n",
    "areaidx = incididx\n",
    "areas = (areaidx*ptsize)+ptsize\n",
    "# colors = [colorseq[1-b] for b in incididx]\n",
    "\n",
    "uniqcat = dfall['diseaseCat'].unique()\n",
    "catclr = dict(zip(uniqcat.tolist(),colorseq[:len(uniqcat)]))\n",
    "catclr['Not found'] = '#dddddd'\n",
    "print(catclr)\n",
    "\n",
    "plt.rc('font', size='18')\n",
    "\n",
    "# Scatter points for better readability\n",
    "np.random.seed(1)\n",
    "rndm = (np.random.random(yy.shape) - 0.5) * 0.8\n",
    "\n",
    "colors = [catclr[cat] for cat in dfall['diseaseCat']]\n",
    "\n",
    "fig, ax = plt.subplots(1, figsize=(20,10))\n",
    "ax.scatter(xx,yy+rndm, c=colors, s=areas, alpha=1)\n",
    "ax.yaxis.set_ticks(np.arange(0,5,1))\n",
    "ax.set_ylim(0.5,4.5)\n",
    "ax.xaxis.set_ticks(np.arange(0.7,0.81,0.005))\n",
    "ax.set_xlim(0.719, 0.75)\n",
    "ax.set_xlabel('Score')\n",
    "ax.set_ylabel('Number of genes')\n",
    "ax.yaxis.set_minor_locator(ticker.AutoMinorLocator(2))\n",
    "ax.grid(True, which='both')\n",
    "\n",
    "patches = []\n",
    "for lbl in uniqcat:\n",
    "    patches.append(mpatches.Patch(color=catclr[lbl], label=lbl))\n",
    "ax.legend(handles=patches, loc='lower right')\n",
    "\n",
    "# ax.grid(color='k', linestyle='dotted', which='both', axis='both', linewidth=1)\n",
    "\n",
    "plt.show()"
   ]
  },
  {
   "cell_type": "code",
   "execution_count": null,
   "metadata": {
    "collapsed": true
   },
   "outputs": [],
   "source": []
  }
 ],
 "metadata": {
  "kernelspec": {
   "display_name": "Python 3",
   "language": "python",
   "name": "python3"
  },
  "language_info": {
   "codemirror_mode": {
    "name": "ipython",
    "version": 3
   },
   "file_extension": ".py",
   "mimetype": "text/x-python",
   "name": "python",
   "nbconvert_exporter": "python",
   "pygments_lexer": "ipython3",
   "version": "3.4.3"
  }
 },
 "nbformat": 4,
 "nbformat_minor": 0
}
